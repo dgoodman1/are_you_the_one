{
 "cells": [
  {
   "cell_type": "code",
   "execution_count": 1,
   "metadata": {},
   "outputs": [],
   "source": [
    "from are_you_the_one import *"
   ]
  },
  {
   "cell_type": "code",
   "execution_count": 2,
   "metadata": {},
   "outputs": [],
   "source": [
    "season = Season(1)\n",
    "season"
   ]
  },
  {
   "cell_type": "code",
   "execution_count": 4,
   "metadata": {},
   "outputs": [
    {
     "data": {
      "text/html": [
       "<div>\n",
       "<style scoped>\n",
       "    .dataframe tbody tr th:only-of-type {\n",
       "        vertical-align: middle;\n",
       "    }\n",
       "\n",
       "    .dataframe tbody tr th {\n",
       "        vertical-align: top;\n",
       "    }\n",
       "\n",
       "    .dataframe thead th {\n",
       "        text-align: right;\n",
       "    }\n",
       "</style>\n",
       "<table border=\"1\" class=\"dataframe\">\n",
       "  <thead>\n",
       "    <tr style=\"text-align: right;\">\n",
       "      <th></th>\n",
       "      <th>guy</th>\n",
       "      <th>girl</th>\n",
       "    </tr>\n",
       "  </thead>\n",
       "  <tbody>\n",
       "    <tr>\n",
       "      <th>0</th>\n",
       "      <td>Adam</td>\n",
       "      <td>Brittany</td>\n",
       "    </tr>\n",
       "    <tr>\n",
       "      <th>9</th>\n",
       "      <td>Chris S.</td>\n",
       "      <td>Ashleigh</td>\n",
       "    </tr>\n",
       "    <tr>\n",
       "      <th>18</th>\n",
       "      <td>Chris T.</td>\n",
       "      <td>Jessica</td>\n",
       "    </tr>\n",
       "    <tr>\n",
       "      <th>27</th>\n",
       "      <td>Dillan</td>\n",
       "      <td>Coleysia</td>\n",
       "    </tr>\n",
       "    <tr>\n",
       "      <th>36</th>\n",
       "      <td>Dre</td>\n",
       "      <td>Jacy</td>\n",
       "    </tr>\n",
       "    <tr>\n",
       "      <th>45</th>\n",
       "      <td>Ethan</td>\n",
       "      <td>Shanley</td>\n",
       "    </tr>\n",
       "    <tr>\n",
       "      <th>54</th>\n",
       "      <td>John</td>\n",
       "      <td>Simone</td>\n",
       "    </tr>\n",
       "    <tr>\n",
       "      <th>63</th>\n",
       "      <td>Joey</td>\n",
       "      <td>Paige</td>\n",
       "    </tr>\n",
       "    <tr>\n",
       "      <th>72</th>\n",
       "      <td>Ryan</td>\n",
       "      <td>Amber</td>\n",
       "    </tr>\n",
       "    <tr>\n",
       "      <th>81</th>\n",
       "      <td>Wes</td>\n",
       "      <td>Kayla</td>\n",
       "    </tr>\n",
       "  </tbody>\n",
       "</table>\n",
       "</div>"
      ],
      "text/plain": [
       "         guy      girl\n",
       "0       Adam  Brittany\n",
       "9   Chris S.  Ashleigh\n",
       "18  Chris T.   Jessica\n",
       "27    Dillan  Coleysia\n",
       "36       Dre      Jacy\n",
       "45     Ethan   Shanley\n",
       "54      John    Simone\n",
       "63      Joey     Paige\n",
       "72      Ryan     Amber\n",
       "81       Wes     Kayla"
      ]
     },
     "execution_count": 4,
     "metadata": {},
     "output_type": "execute_result"
    }
   ],
   "source": [
    "ceremony_i = 1\n",
    "matches_df = season._reader.progress.query(\"ceremony == @ceremony_i\")[['guy', 'girl']]\n",
    "matches_df"
   ]
  },
  {
   "cell_type": "markdown",
   "metadata": {},
   "source": [
    "## Generate a Path of Matches based on Data from the First Ceremony"
   ]
  },
  {
   "cell_type": "code",
   "execution_count": 5,
   "metadata": {},
   "outputs": [
    {
     "data": {
      "text/plain": [
       "[Guy(idx: 0, name: Adam, sex: Male, gender preference: Female),\n",
       " Guy(idx: 2, name: Chris S., sex: Male, gender preference: Female),\n",
       " Guy(idx: 3, name: Chris T., sex: Male, gender preference: Female),\n",
       " Guy(idx: 4, name: Dillan, sex: Male, gender preference: Female),\n",
       " Guy(idx: 1, name: Dre, sex: Male, gender preference: Female),\n",
       " Guy(idx: 5, name: Ethan, sex: Male, gender preference: Female),\n",
       " Guy(idx: 7, name: John, sex: Male, gender preference: Female),\n",
       " Guy(idx: 6, name: Joey, sex: Male, gender preference: Female),\n",
       " Guy(idx: 8, name: Ryan, sex: Male, gender preference: Female),\n",
       " Guy(idx: 9, name: Wes, sex: Male, gender preference: Female)]"
      ]
     },
     "execution_count": 5,
     "metadata": {},
     "output_type": "execute_result"
    }
   ],
   "source": [
    "guys = matches_df['guy'].map(season.guys_indices.get).map(season.guys.__getitem__).tolist()\n",
    "guys"
   ]
  },
  {
   "cell_type": "code",
   "execution_count": 6,
   "metadata": {},
   "outputs": [
    {
     "data": {
      "text/plain": [
       "[Girl(idx: 2, name: Brittany, sex: Female, gender preference: Male),\n",
       " Girl(idx: 1, name: Ashleigh, sex: Female, gender preference: Male),\n",
       " Girl(idx: 5, name: Jessica, sex: Female, gender preference: Male),\n",
       " Girl(idx: 3, name: Coleysia, sex: Female, gender preference: Male),\n",
       " Girl(idx: 4, name: Jacy, sex: Female, gender preference: Male),\n",
       " Girl(idx: 8, name: Shanley, sex: Female, gender preference: Male),\n",
       " Girl(idx: 9, name: Simone, sex: Female, gender preference: Male),\n",
       " Girl(idx: 7, name: Paige, sex: Female, gender preference: Male),\n",
       " Girl(idx: 0, name: Amber, sex: Female, gender preference: Male),\n",
       " Girl(idx: 6, name: Kayla, sex: Female, gender preference: Male)]"
      ]
     },
     "execution_count": 6,
     "metadata": {},
     "output_type": "execute_result"
    }
   ],
   "source": [
    "girls = matches_df['girl'].map(season.girls_indices.get).map(season.girls.__getitem__).tolist()\n",
    "girls"
   ]
  },
  {
   "cell_type": "code",
   "execution_count": 8,
   "metadata": {},
   "outputs": [
    {
     "data": {
      "text/plain": [
       "Path([Match(Guy(idx: 0, name: Adam, sex: Male, gender preference: Female), Girl(idx: 2, name: Brittany, sex: Female, gender preference: Male)), Match(Guy(idx: 2, name: Chris S., sex: Male, gender preference: Female), Girl(idx: 1, name: Ashleigh, sex: Female, gender preference: Male)), Match(Guy(idx: 3, name: Chris T., sex: Male, gender preference: Female), Girl(idx: 5, name: Jessica, sex: Female, gender preference: Male)), Match(Guy(idx: 4, name: Dillan, sex: Male, gender preference: Female), Girl(idx: 3, name: Coleysia, sex: Female, gender preference: Male)), Match(Guy(idx: 1, name: Dre, sex: Male, gender preference: Female), Girl(idx: 4, name: Jacy, sex: Female, gender preference: Male)), Match(Guy(idx: 5, name: Ethan, sex: Male, gender preference: Female), Girl(idx: 8, name: Shanley, sex: Female, gender preference: Male)), Match(Guy(idx: 7, name: John, sex: Male, gender preference: Female), Girl(idx: 9, name: Simone, sex: Female, gender preference: Male)), Match(Guy(idx: 6, name: Joey, sex: Male, gender preference: Female), Girl(idx: 7, name: Paige, sex: Female, gender preference: Male)), Match(Guy(idx: 8, name: Ryan, sex: Male, gender preference: Female), Girl(idx: 0, name: Amber, sex: Female, gender preference: Male)), Match(Guy(idx: 9, name: Wes, sex: Male, gender preference: Female), Girl(idx: 6, name: Kayla, sex: Female, gender preference: Male))])"
      ]
     },
     "execution_count": 8,
     "metadata": {},
     "output_type": "execute_result"
    }
   ],
   "source": [
    "matches = [Match(guy, girl) for guy, girl in zip(guys, girls)]\n",
    "path = Path(matches)\n",
    "path"
   ]
  },
  {
   "cell_type": "code",
   "execution_count": 9,
   "metadata": {},
   "outputs": [
    {
     "name": "stdout",
     "output_type": "stream",
     "text": [
      "Match(Adam, Brittany)\n",
      "Match(Chris S., Ashleigh)\n",
      "Match(Chris T., Jessica)\n",
      "Match(Dillan, Coleysia)\n",
      "Match(Dre, Jacy)\n",
      "Match(Ethan, Shanley)\n",
      "Match(John, Simone)\n",
      "Match(Joey, Paige)\n",
      "Match(Ryan, Amber)\n",
      "Match(Wes, Kayla)\n"
     ]
    }
   ],
   "source": [
    "for match in path:\n",
    "    print(match)"
   ]
  },
  {
   "cell_type": "markdown",
   "metadata": {},
   "source": [
    "## Get Results of First Ceremony"
   ]
  },
  {
   "cell_type": "code",
   "execution_count": null,
   "metadata": {},
   "outputs": [],
   "source": []
  },
  {
   "cell_type": "code",
   "execution_count": null,
   "metadata": {},
   "outputs": [],
   "source": []
  },
  {
   "cell_type": "markdown",
   "metadata": {},
   "source": [
    "## Update Matrix based on First Ceremony Matchups and Number of Perfect Matches"
   ]
  },
  {
   "cell_type": "markdown",
   "metadata": {},
   "source": []
  }
 ],
 "metadata": {
  "kernelspec": {
   "display_name": "base",
   "language": "python",
   "name": "python3"
  },
  "language_info": {
   "codemirror_mode": {
    "name": "ipython",
    "version": 3
   },
   "file_extension": ".py",
   "mimetype": "text/x-python",
   "name": "python",
   "nbconvert_exporter": "python",
   "pygments_lexer": "ipython3",
   "version": "3.11.5"
  }
 },
 "nbformat": 4,
 "nbformat_minor": 2
}
