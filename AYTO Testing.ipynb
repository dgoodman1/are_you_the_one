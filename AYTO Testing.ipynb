{
 "cells": [
  {
   "cell_type": "code",
   "execution_count": 1,
   "metadata": {},
   "outputs": [],
   "source": [
    "from importlib import reload\n",
    "import are_you_the_one as ayto\n",
    "from data_reader import Reader\n",
    "import pandas as pd\n",
    "import numpy as np"
   ]
  },
  {
   "cell_type": "code",
   "execution_count": 2,
   "metadata": {},
   "outputs": [],
   "source": [
    "N = 10\n",
    "M = ayto.Matrix(N)"
   ]
  },
  {
   "cell_type": "code",
   "execution_count": 3,
   "metadata": {},
   "outputs": [
    {
     "data": {
      "text/plain": [
       "(3628800, 10)"
      ]
     },
     "execution_count": 3,
     "metadata": {},
     "output_type": "execute_result"
    }
   ],
   "source": [
    "M.shape"
   ]
  },
  {
   "cell_type": "code",
   "execution_count": 4,
   "metadata": {},
   "outputs": [
    {
     "data": {
      "text/plain": [
       "array([[0, 1, 2, 3, 4, 5, 6, 7, 8, 9],\n",
       "       [0, 1, 2, 3, 4, 5, 6, 7, 9, 8],\n",
       "       [0, 1, 2, 3, 4, 5, 6, 8, 7, 9],\n",
       "       [0, 1, 2, 3, 4, 5, 6, 8, 9, 7],\n",
       "       [0, 1, 2, 3, 4, 5, 6, 9, 7, 8],\n",
       "       [0, 1, 2, 3, 4, 5, 6, 9, 8, 7],\n",
       "       [0, 1, 2, 3, 4, 5, 7, 6, 8, 9],\n",
       "       [0, 1, 2, 3, 4, 5, 7, 6, 9, 8],\n",
       "       [0, 1, 2, 3, 4, 5, 7, 8, 6, 9],\n",
       "       [0, 1, 2, 3, 4, 5, 7, 8, 9, 6]], dtype=int8)"
      ]
     },
     "execution_count": 4,
     "metadata": {},
     "output_type": "execute_result"
    }
   ],
   "source": [
    "M[:10]"
   ]
  },
  {
   "cell_type": "code",
   "execution_count": 5,
   "metadata": {},
   "outputs": [],
   "source": [
    "reader = Reader(1)"
   ]
  },
  {
   "cell_type": "code",
   "execution_count": 6,
   "metadata": {},
   "outputs": [
    {
     "data": {
      "text/html": [
       "<div>\n",
       "<style scoped>\n",
       "    .dataframe tbody tr th:only-of-type {\n",
       "        vertical-align: middle;\n",
       "    }\n",
       "\n",
       "    .dataframe tbody tr th {\n",
       "        vertical-align: top;\n",
       "    }\n",
       "\n",
       "    .dataframe thead th {\n",
       "        text-align: right;\n",
       "    }\n",
       "</style>\n",
       "<table border=\"1\" class=\"dataframe\">\n",
       "  <thead>\n",
       "    <tr style=\"text-align: right;\">\n",
       "      <th></th>\n",
       "      <th>cast_member</th>\n",
       "      <th>age</th>\n",
       "      <th>hometown</th>\n",
       "      <th>sex</th>\n",
       "      <th>season</th>\n",
       "      <th>nickname</th>\n",
       "    </tr>\n",
       "  </thead>\n",
       "  <tbody>\n",
       "    <tr>\n",
       "      <th>0</th>\n",
       "      <td>Adam Kuhn</td>\n",
       "      <td>24</td>\n",
       "      <td>Sterling, Virginia</td>\n",
       "      <td>Male</td>\n",
       "      <td>1</td>\n",
       "      <td>Adam</td>\n",
       "    </tr>\n",
       "    <tr>\n",
       "      <th>1</th>\n",
       "      <td>Andrean \"Dre\" McCoy</td>\n",
       "      <td>23</td>\n",
       "      <td>Atlanta, Georgia</td>\n",
       "      <td>Male</td>\n",
       "      <td>1</td>\n",
       "      <td>Dre</td>\n",
       "    </tr>\n",
       "    <tr>\n",
       "      <th>2</th>\n",
       "      <td>Chris Scali</td>\n",
       "      <td>24</td>\n",
       "      <td>Brooklyn, New York</td>\n",
       "      <td>Male</td>\n",
       "      <td>1</td>\n",
       "      <td>Chris S.</td>\n",
       "    </tr>\n",
       "    <tr>\n",
       "      <th>3</th>\n",
       "      <td>Chris Tolleson</td>\n",
       "      <td>23</td>\n",
       "      <td>Virginia Beach</td>\n",
       "      <td>Male</td>\n",
       "      <td>1</td>\n",
       "      <td>Chris T.</td>\n",
       "    </tr>\n",
       "    <tr>\n",
       "      <th>4</th>\n",
       "      <td>Dillan Ostrom</td>\n",
       "      <td>23</td>\n",
       "      <td>Finley, North Dakota</td>\n",
       "      <td>Male</td>\n",
       "      <td>1</td>\n",
       "      <td>Dillan</td>\n",
       "    </tr>\n",
       "    <tr>\n",
       "      <th>5</th>\n",
       "      <td>Ethan Diamond</td>\n",
       "      <td>23</td>\n",
       "      <td>Denver, Colorado</td>\n",
       "      <td>Male</td>\n",
       "      <td>1</td>\n",
       "      <td>Ethan</td>\n",
       "    </tr>\n",
       "    <tr>\n",
       "      <th>6</th>\n",
       "      <td>Joey Dillon</td>\n",
       "      <td>23</td>\n",
       "      <td>Atlanta, Georgia</td>\n",
       "      <td>Male</td>\n",
       "      <td>1</td>\n",
       "      <td>Joey</td>\n",
       "    </tr>\n",
       "    <tr>\n",
       "      <th>7</th>\n",
       "      <td>John \"JJ\" Jacobs</td>\n",
       "      <td>25</td>\n",
       "      <td>Washington, DC</td>\n",
       "      <td>Male</td>\n",
       "      <td>1</td>\n",
       "      <td>John</td>\n",
       "    </tr>\n",
       "    <tr>\n",
       "      <th>8</th>\n",
       "      <td>Ryan Malaty</td>\n",
       "      <td>24</td>\n",
       "      <td>Greeley, Colorado</td>\n",
       "      <td>Male</td>\n",
       "      <td>1</td>\n",
       "      <td>Ryan</td>\n",
       "    </tr>\n",
       "    <tr>\n",
       "      <th>9</th>\n",
       "      <td>Wesley \"Wes\" Buckles</td>\n",
       "      <td>25</td>\n",
       "      <td>Phoenix, Arizona</td>\n",
       "      <td>Male</td>\n",
       "      <td>1</td>\n",
       "      <td>Wes</td>\n",
       "    </tr>\n",
       "    <tr>\n",
       "      <th>10</th>\n",
       "      <td>Amber Lee</td>\n",
       "      <td>22</td>\n",
       "      <td>Austin, Texas</td>\n",
       "      <td>Female</td>\n",
       "      <td>1</td>\n",
       "      <td>Amber</td>\n",
       "    </tr>\n",
       "    <tr>\n",
       "      <th>11</th>\n",
       "      <td>Ashleigh Feaster</td>\n",
       "      <td>23</td>\n",
       "      <td>Akron, Ohio</td>\n",
       "      <td>Female</td>\n",
       "      <td>1</td>\n",
       "      <td>Ashleigh</td>\n",
       "    </tr>\n",
       "    <tr>\n",
       "      <th>12</th>\n",
       "      <td>Brittany Baldassari</td>\n",
       "      <td>24</td>\n",
       "      <td>Boston, Massachusetts</td>\n",
       "      <td>Female</td>\n",
       "      <td>1</td>\n",
       "      <td>Brittany</td>\n",
       "    </tr>\n",
       "    <tr>\n",
       "      <th>13</th>\n",
       "      <td>Coleysia Chestnut</td>\n",
       "      <td>23</td>\n",
       "      <td>Selma, Alabama</td>\n",
       "      <td>Female</td>\n",
       "      <td>1</td>\n",
       "      <td>Coleysia</td>\n",
       "    </tr>\n",
       "    <tr>\n",
       "      <th>14</th>\n",
       "      <td>Jacinda \"Jacy\" Rodriguez</td>\n",
       "      <td>24</td>\n",
       "      <td>Carolina, Puerto Rico</td>\n",
       "      <td>Female</td>\n",
       "      <td>1</td>\n",
       "      <td>Jacy</td>\n",
       "    </tr>\n",
       "    <tr>\n",
       "      <th>15</th>\n",
       "      <td>Jessica Perez</td>\n",
       "      <td>23</td>\n",
       "      <td>Miami, Florida</td>\n",
       "      <td>Female</td>\n",
       "      <td>1</td>\n",
       "      <td>Jessica</td>\n",
       "    </tr>\n",
       "    <tr>\n",
       "      <th>16</th>\n",
       "      <td>Kayla Lusby</td>\n",
       "      <td>22</td>\n",
       "      <td>Greenfield, Tennessee</td>\n",
       "      <td>Female</td>\n",
       "      <td>1</td>\n",
       "      <td>Kayla</td>\n",
       "    </tr>\n",
       "    <tr>\n",
       "      <th>17</th>\n",
       "      <td>Paige Brendel</td>\n",
       "      <td>22</td>\n",
       "      <td>Phoenix, Arizona</td>\n",
       "      <td>Female</td>\n",
       "      <td>1</td>\n",
       "      <td>Paige</td>\n",
       "    </tr>\n",
       "    <tr>\n",
       "      <th>18</th>\n",
       "      <td>Shanley McIntee</td>\n",
       "      <td>24</td>\n",
       "      <td>Mishawaka, Indiana</td>\n",
       "      <td>Female</td>\n",
       "      <td>1</td>\n",
       "      <td>Shanley</td>\n",
       "    </tr>\n",
       "    <tr>\n",
       "      <th>19</th>\n",
       "      <td>Simone Kelly</td>\n",
       "      <td>23</td>\n",
       "      <td>Atlanta, Georgia</td>\n",
       "      <td>Female</td>\n",
       "      <td>1</td>\n",
       "      <td>Simone</td>\n",
       "    </tr>\n",
       "  </tbody>\n",
       "</table>\n",
       "</div>"
      ],
      "text/plain": [
       "                 cast_member  age               hometown     sex  season  \\\n",
       "0                  Adam Kuhn   24     Sterling, Virginia    Male       1   \n",
       "1        Andrean \"Dre\" McCoy   23       Atlanta, Georgia    Male       1   \n",
       "2                Chris Scali   24     Brooklyn, New York    Male       1   \n",
       "3             Chris Tolleson   23         Virginia Beach    Male       1   \n",
       "4              Dillan Ostrom   23   Finley, North Dakota    Male       1   \n",
       "5              Ethan Diamond   23       Denver, Colorado    Male       1   \n",
       "6                Joey Dillon   23       Atlanta, Georgia    Male       1   \n",
       "7           John \"JJ\" Jacobs   25         Washington, DC    Male       1   \n",
       "8                Ryan Malaty   24      Greeley, Colorado    Male       1   \n",
       "9       Wesley \"Wes\" Buckles   25       Phoenix, Arizona    Male       1   \n",
       "10                 Amber Lee   22          Austin, Texas  Female       1   \n",
       "11          Ashleigh Feaster   23            Akron, Ohio  Female       1   \n",
       "12       Brittany Baldassari   24  Boston, Massachusetts  Female       1   \n",
       "13         Coleysia Chestnut   23         Selma, Alabama  Female       1   \n",
       "14  Jacinda \"Jacy\" Rodriguez   24  Carolina, Puerto Rico  Female       1   \n",
       "15             Jessica Perez   23         Miami, Florida  Female       1   \n",
       "16               Kayla Lusby   22  Greenfield, Tennessee  Female       1   \n",
       "17             Paige Brendel   22       Phoenix, Arizona  Female       1   \n",
       "18           Shanley McIntee   24     Mishawaka, Indiana  Female       1   \n",
       "19              Simone Kelly   23       Atlanta, Georgia  Female       1   \n",
       "\n",
       "    nickname  \n",
       "0       Adam  \n",
       "1        Dre  \n",
       "2   Chris S.  \n",
       "3   Chris T.  \n",
       "4     Dillan  \n",
       "5      Ethan  \n",
       "6       Joey  \n",
       "7       John  \n",
       "8       Ryan  \n",
       "9        Wes  \n",
       "10     Amber  \n",
       "11  Ashleigh  \n",
       "12  Brittany  \n",
       "13  Coleysia  \n",
       "14      Jacy  \n",
       "15   Jessica  \n",
       "16     Kayla  \n",
       "17     Paige  \n",
       "18   Shanley  \n",
       "19    Simone  "
      ]
     },
     "execution_count": 6,
     "metadata": {},
     "output_type": "execute_result"
    }
   ],
   "source": [
    "reader.cast"
   ]
  },
  {
   "cell_type": "code",
   "execution_count": 9,
   "metadata": {},
   "outputs": [
    {
     "name": "stdout",
     "output_type": "stream",
     "text": [
      "0 Adam 0\n",
      "1 Dre 1\n",
      "2 Chris S. 2\n",
      "3 Chris T. 3\n",
      "4 Dillan 4\n",
      "5 Ethan 5\n",
      "6 Joey 6\n",
      "7 John 7\n",
      "8 Ryan 8\n",
      "9 Wes 9\n"
     ]
    }
   ],
   "source": [
    "guys_list = reader.cast.query(\"sex == 'Male'\")['nickname'].tolist()\n",
    "guys = {i: ayto.Guy(nickname) for i, nickname in enumerate(guys_list)}\n",
    "rev_guys = {guy: i for i, guy in guys.items()}\n",
    "for i, guy in guys.items():\n",
    "    print(i, guy, rev_guys[guy])"
   ]
  },
  {
   "cell_type": "code",
   "execution_count": 11,
   "metadata": {},
   "outputs": [
    {
     "name": "stdout",
     "output_type": "stream",
     "text": [
      "0 Amber 0\n",
      "1 Ashleigh 1\n",
      "2 Brittany 2\n",
      "3 Coleysia 3\n",
      "4 Jacy 4\n",
      "5 Jessica 5\n",
      "6 Kayla 6\n",
      "7 Paige 7\n",
      "8 Shanley 8\n",
      "9 Simone 9\n"
     ]
    }
   ],
   "source": [
    "girls_list = reader.cast.query(\"sex == 'Female'\")['nickname'].tolist()\n",
    "girls = {i: ayto.Girl(nickname) for i, nickname in enumerate(girls_list)}\n",
    "rev_girls = {girl: i for i, girl in girls.items()}\n",
    "for j, girl in girls.items():\n",
    "    print(j, girl, rev_girls[girl])"
   ]
  },
  {
   "cell_type": "code",
   "execution_count": null,
   "metadata": {},
   "outputs": [
    {
     "data": {
      "text/html": [
       "<div>\n",
       "<style scoped>\n",
       "    .dataframe tbody tr th:only-of-type {\n",
       "        vertical-align: middle;\n",
       "    }\n",
       "\n",
       "    .dataframe tbody tr th {\n",
       "        vertical-align: top;\n",
       "    }\n",
       "\n",
       "    .dataframe thead th {\n",
       "        text-align: right;\n",
       "    }\n",
       "</style>\n",
       "<table border=\"1\" class=\"dataframe\">\n",
       "  <thead>\n",
       "    <tr style=\"text-align: right;\">\n",
       "      <th></th>\n",
       "      <th>guy</th>\n",
       "      <th>girl</th>\n",
       "      <th>status</th>\n",
       "    </tr>\n",
       "  </thead>\n",
       "  <tbody>\n",
       "    <tr>\n",
       "      <th>0</th>\n",
       "      <td>Adam</td>\n",
       "      <td>Brittany</td>\n",
       "      <td>Not A Match</td>\n",
       "    </tr>\n",
       "    <tr>\n",
       "      <th>9</th>\n",
       "      <td>Chris S.</td>\n",
       "      <td>Ashleigh</td>\n",
       "      <td>Not A Match</td>\n",
       "    </tr>\n",
       "    <tr>\n",
       "      <th>18</th>\n",
       "      <td>Chris T.</td>\n",
       "      <td>Jessica</td>\n",
       "      <td>Not A Match</td>\n",
       "    </tr>\n",
       "    <tr>\n",
       "      <th>27</th>\n",
       "      <td>Dillan</td>\n",
       "      <td>Coleysia</td>\n",
       "      <td>Unconfirmed Perfect Match</td>\n",
       "    </tr>\n",
       "    <tr>\n",
       "      <th>36</th>\n",
       "      <td>Dre</td>\n",
       "      <td>Jacy</td>\n",
       "      <td>Not A Match</td>\n",
       "    </tr>\n",
       "    <tr>\n",
       "      <th>45</th>\n",
       "      <td>Ethan</td>\n",
       "      <td>Shanley</td>\n",
       "      <td>Not A Match</td>\n",
       "    </tr>\n",
       "    <tr>\n",
       "      <th>54</th>\n",
       "      <td>John</td>\n",
       "      <td>Simone</td>\n",
       "      <td>Not A Match</td>\n",
       "    </tr>\n",
       "    <tr>\n",
       "      <th>63</th>\n",
       "      <td>Joey</td>\n",
       "      <td>Paige</td>\n",
       "      <td>Not A Match</td>\n",
       "    </tr>\n",
       "    <tr>\n",
       "      <th>72</th>\n",
       "      <td>Ryan</td>\n",
       "      <td>Amber</td>\n",
       "      <td>Not A Match</td>\n",
       "    </tr>\n",
       "    <tr>\n",
       "      <th>81</th>\n",
       "      <td>Wes</td>\n",
       "      <td>Kayla</td>\n",
       "      <td>Unconfirmed Perfect Match</td>\n",
       "    </tr>\n",
       "  </tbody>\n",
       "</table>\n",
       "</div>"
      ],
      "text/plain": [
       "         guy      girl                     status\n",
       "0       Adam  Brittany                Not A Match\n",
       "9   Chris S.  Ashleigh                Not A Match\n",
       "18  Chris T.   Jessica                Not A Match\n",
       "27    Dillan  Coleysia  Unconfirmed Perfect Match\n",
       "36       Dre      Jacy                Not A Match\n",
       "45     Ethan   Shanley                Not A Match\n",
       "54      John    Simone                Not A Match\n",
       "63      Joey     Paige                Not A Match\n",
       "72      Ryan     Amber                Not A Match\n",
       "81       Wes     Kayla  Unconfirmed Perfect Match"
      ]
     },
     "execution_count": 9,
     "metadata": {},
     "output_type": "execute_result"
    }
   ],
   "source": [
    "ceremony1 = reader.progress.query(\"ceremony == 1\")[['guy', 'girl', 'status']]\n",
    "ceremony1"
   ]
  },
  {
   "cell_type": "code",
   "execution_count": null,
   "metadata": {},
   "outputs": [
    {
     "data": {
      "text/plain": [
       "Path({(2, 1), (4, 3), (5, 8), (9, 6), (1, 4), (8, 0), (7, 9), (6, 7), (0, 2), (3, 5)})"
      ]
     },
     "execution_count": 11,
     "metadata": {},
     "output_type": "execute_result"
    }
   ],
   "source": [
    "iter_couples = zip(ceremony1.guy.map(rev_guys).rename('guy_idx'),\n",
    "                   ceremony1.girl.map(rev_girls).rename('girl_idx'))\n",
    "p = {tuple([guy, girl]) for guy, girl in iter_couples}\n",
    "path = ayto.Path(p)\n",
    "path"
   ]
  },
  {
   "cell_type": "code",
   "execution_count": null,
   "metadata": {},
   "outputs": [
    {
     "name": "stdout",
     "output_type": "stream",
     "text": [
      "(2, 1)\n",
      "(4, 3)\n",
      "(5, 8)\n",
      "(9, 6)\n",
      "(1, 4)\n",
      "(8, 0)\n",
      "(7, 9)\n",
      "(6, 7)\n",
      "(0, 2)\n",
      "(3, 5)\n"
     ]
    }
   ],
   "source": [
    "for match in path:\n",
    "    print(match)"
   ]
  },
  {
   "cell_type": "code",
   "execution_count": null,
   "metadata": {},
   "outputs": [
    {
     "data": {
      "text/plain": [
       "array([2, 4, 1, 5, 3, 8, 7, 9, 0, 6], dtype=int8)"
      ]
     },
     "execution_count": 13,
     "metadata": {},
     "output_type": "execute_result"
    }
   ],
   "source": [
    "np_path = np.array([m[1] for m in sorted(path.matches, key=lambda x: x[0])],\n",
    "                   dtype=np.int8)\n",
    "np_path"
   ]
  },
  {
   "cell_type": "code",
   "execution_count": null,
   "metadata": {},
   "outputs": [
    {
     "data": {
      "text/plain": [
       "(3628800, 10)"
      ]
     },
     "execution_count": 14,
     "metadata": {},
     "output_type": "execute_result"
    }
   ],
   "source": [
    "M.shape"
   ]
  },
  {
   "cell_type": "code",
   "execution_count": null,
   "metadata": {},
   "outputs": [
    {
     "data": {
      "text/plain": [
       "1"
      ]
     },
     "execution_count": 15,
     "metadata": {},
     "output_type": "execute_result"
    }
   ],
   "source": [
    "# compare the path with each row in the matrix M\n",
    "mask = np.equal(M[:], np_path, dtype=np.bool_)\n",
    "mask.all(axis=1).sum()\n"
   ]
  },
  {
   "cell_type": "code",
   "execution_count": null,
   "metadata": {},
   "outputs": [
    {
     "data": {
      "text/plain": [
       "(array([[2, 4, 1, 5, 3, 8, 7, 9, 0, 6]], dtype=int8),\n",
       " array([2, 4, 1, 5, 3, 8, 7, 9, 0, 6], dtype=int8))"
      ]
     },
     "execution_count": 16,
     "metadata": {},
     "output_type": "execute_result"
    }
   ],
   "source": [
    "idx = np.argwhere(mask.all(axis=1)).flatten()\n",
    "M[idx], np_path"
   ]
  },
  {
   "cell_type": "code",
   "execution_count": null,
   "metadata": {},
   "outputs": [],
   "source": []
  }
 ],
 "metadata": {
  "kernelspec": {
   "display_name": "base",
   "language": "python",
   "name": "python3"
  },
  "language_info": {
   "codemirror_mode": {
    "name": "ipython",
    "version": 3
   },
   "file_extension": ".py",
   "mimetype": "text/x-python",
   "name": "python",
   "nbconvert_exporter": "python",
   "pygments_lexer": "ipython3",
   "version": "3.11.5"
  }
 },
 "nbformat": 4,
 "nbformat_minor": 2
}
