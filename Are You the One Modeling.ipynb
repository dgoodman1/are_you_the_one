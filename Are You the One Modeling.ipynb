{
 "cells": [
  {
   "cell_type": "code",
   "execution_count": 1,
   "metadata": {},
   "outputs": [],
   "source": [
    "import itertools as it\n",
    "from collections import defaultdict, Counter\n",
    "from functools import reduce\n",
    "from operator import add\n",
    "from string import ascii_uppercase\n",
    "import pandas as pd\n",
    "import numpy as np\n",
    "import matplotlib.pyplot as plt\n",
    "\n",
    "%matplotlib inline"
   ]
  },
  {
   "cell_type": "markdown",
   "metadata": {},
   "source": [
    "### Example: List out all possible matches"
   ]
  },
  {
   "cell_type": "code",
   "execution_count": 2,
   "metadata": {},
   "outputs": [],
   "source": [
    "guys = list(\"ABC\")\n",
    "girls = list(\"FGH\")"
   ]
  },
  {
   "cell_type": "code",
   "execution_count": 66,
   "metadata": {},
   "outputs": [],
   "source": [
    "guys = list(\"ABCD\")\n",
    "girls = list(\"EFGH\")"
   ]
  },
  {
   "cell_type": "code",
   "execution_count": 70,
   "metadata": {},
   "outputs": [
    {
     "name": "stdout",
     "output_type": "stream",
     "text": [
      "24\n",
      "[('A', 'E'), ('B', 'F'), ('C', 'G'), ('D', 'H')]\n",
      "[('A', 'E'), ('B', 'F'), ('C', 'H'), ('D', 'G')]\n",
      "[('A', 'E'), ('B', 'G'), ('C', 'F'), ('D', 'H')]\n",
      "[('A', 'E'), ('B', 'G'), ('C', 'H'), ('D', 'F')]\n",
      "[('A', 'E'), ('B', 'H'), ('C', 'F'), ('D', 'G')]\n",
      "[('A', 'E'), ('B', 'H'), ('C', 'G'), ('D', 'F')]\n",
      "[('A', 'F'), ('B', 'E'), ('C', 'G'), ('D', 'H')]\n",
      "[('A', 'F'), ('B', 'E'), ('C', 'H'), ('D', 'G')]\n",
      "[('A', 'F'), ('B', 'G'), ('C', 'E'), ('D', 'H')]\n",
      "[('A', 'F'), ('B', 'G'), ('C', 'H'), ('D', 'E')]\n",
      "[('A', 'F'), ('B', 'H'), ('C', 'E'), ('D', 'G')]\n",
      "[('A', 'F'), ('B', 'H'), ('C', 'G'), ('D', 'E')]\n",
      "[('A', 'G'), ('B', 'E'), ('C', 'F'), ('D', 'H')]\n",
      "[('A', 'G'), ('B', 'E'), ('C', 'H'), ('D', 'F')]\n",
      "[('A', 'G'), ('B', 'F'), ('C', 'E'), ('D', 'H')]\n",
      "[('A', 'G'), ('B', 'F'), ('C', 'H'), ('D', 'E')]\n",
      "[('A', 'G'), ('B', 'H'), ('C', 'E'), ('D', 'F')]\n",
      "[('A', 'G'), ('B', 'H'), ('C', 'F'), ('D', 'E')]\n",
      "[('A', 'H'), ('B', 'E'), ('C', 'F'), ('D', 'G')]\n",
      "[('A', 'H'), ('B', 'E'), ('C', 'G'), ('D', 'F')]\n",
      "[('A', 'H'), ('B', 'F'), ('C', 'E'), ('D', 'G')]\n",
      "[('A', 'H'), ('B', 'F'), ('C', 'G'), ('D', 'E')]\n",
      "[('A', 'H'), ('B', 'G'), ('C', 'E'), ('D', 'F')]\n",
      "[('A', 'H'), ('B', 'G'), ('C', 'F'), ('D', 'E')]\n"
     ]
    }
   ],
   "source": [
    "girl_perms = list(it.permutations(girls, len(girls)))\n",
    "perms = [list(zip(guys, girl_perm)) for girl_perm in girl_perms]\n",
    "print(len(perms))\n",
    "for perm in perms:\n",
    "    print(perm)"
   ]
  },
  {
   "cell_type": "code",
   "execution_count": 62,
   "metadata": {},
   "outputs": [],
   "source": [
    "def reduce_path(path):\n",
    "    \"\"\"\n",
    "    Reduces a path of matches to an unnested set of individuals.\n",
    "    \"\"\"\n",
    "    return reduce(add, path)\n",
    "\n",
    "\n",
    "def unique_couples(path):\n",
    "    \"\"\"\n",
    "    Tests whether a path of matches has unique individuals.\n",
    "    \"\"\"\n",
    "    count = Counter(reduce_path(path)).values()\n",
    "    return max(count) == 1\n",
    "\n",
    "\n",
    "def generate_unique_paths(guys, girls):\n",
    "    \"\"\"\n",
    "    Generate all unique paths (sets of couples).\n",
    "    Returns a list of lists (paths) of tuples (couples).\n",
    "    \"\"\"\n",
    "    # get all possible pairings\n",
    "    product = it.product(guys, girls)\n",
    "    \n",
    "    # group pairings by guy\n",
    "    dd = defaultdict(list)\n",
    "    for guy, girl in product:\n",
    "        dd[guy].append((guy, girl,))\n",
    "\n",
    "    groups = list(dd.values())\n",
    "    # filtered_paths = filter(unique_couples, it.product(*groups))\n",
    "    unique_paths = [path\n",
    "                    for path in it.product(*groups)\n",
    "                    if unique_couples(path)]\n",
    "    \n",
    "    return unique_paths"
   ]
  },
  {
   "cell_type": "code",
   "execution_count": 63,
   "metadata": {},
   "outputs": [
    {
     "name": "stdout",
     "output_type": "stream",
     "text": [
      " Number of paths: 5040\n",
      "First 10 paths:\n",
      "(('A', 'H'), ('B', 'I'), ('C', 'J'), ('D', 'K'), ('E', 'L'), ('F', 'M'), ('G', 'N'))\n",
      "(('A', 'H'), ('B', 'I'), ('C', 'J'), ('D', 'K'), ('E', 'L'), ('F', 'N'), ('G', 'M'))\n",
      "(('A', 'H'), ('B', 'I'), ('C', 'J'), ('D', 'K'), ('E', 'M'), ('F', 'L'), ('G', 'N'))\n",
      "(('A', 'H'), ('B', 'I'), ('C', 'J'), ('D', 'K'), ('E', 'M'), ('F', 'N'), ('G', 'L'))\n",
      "(('A', 'H'), ('B', 'I'), ('C', 'J'), ('D', 'K'), ('E', 'N'), ('F', 'L'), ('G', 'M'))\n",
      "(('A', 'H'), ('B', 'I'), ('C', 'J'), ('D', 'K'), ('E', 'N'), ('F', 'M'), ('G', 'L'))\n",
      "(('A', 'H'), ('B', 'I'), ('C', 'J'), ('D', 'L'), ('E', 'K'), ('F', 'M'), ('G', 'N'))\n",
      "(('A', 'H'), ('B', 'I'), ('C', 'J'), ('D', 'L'), ('E', 'K'), ('F', 'N'), ('G', 'M'))\n",
      "(('A', 'H'), ('B', 'I'), ('C', 'J'), ('D', 'L'), ('E', 'M'), ('F', 'K'), ('G', 'N'))\n",
      "(('A', 'H'), ('B', 'I'), ('C', 'J'), ('D', 'L'), ('E', 'M'), ('F', 'N'), ('G', 'K'))\n"
     ]
    },
    {
     "name": "stdout",
     "output_type": "stream",
     "text": [
      "         9059028 function calls in 6.886 seconds\n",
      "\n",
      "   Ordered by: internal time\n",
      "\n",
      "   ncalls  tottime  percall  cumtime  percall filename:lineno(function)\n",
      "   823543    1.420    0.000    6.429    0.000 1534522923.py:8(unique_couples)\n",
      "   823543    0.955    0.000    3.625    0.000 __init__.py:587(__init__)\n",
      "   823543    0.837    0.000    2.669    0.000 __init__.py:660(update)\n",
      "   823543    0.805    0.000    0.805    0.000 {built-in method _collections._count_elements}\n",
      "   823543    0.498    0.000    0.498    0.000 {built-in method _functools.reduce}\n",
      "        1    0.456    0.456    6.885    6.885 1534522923.py:31(<listcomp>)\n",
      "   823543    0.437    0.000    1.028    0.000 {built-in method builtins.isinstance}\n",
      "   823543    0.422    0.000    0.422    0.000 {built-in method builtins.max}\n",
      "   823543    0.341    0.000    0.838    0.000 1534522923.py:1(reduce_path)\n",
      "   823543    0.324    0.000    0.590    0.000 <frozen abc>:117(__instancecheck__)\n",
      "   823543    0.267    0.000    0.267    0.000 {built-in method _abc._abc_instancecheck}\n",
      "   823544    0.123    0.000    0.123    0.000 {method 'values' of 'dict' objects}\n",
      "        1    0.001    0.001    6.886    6.886 <string>:1(<module>)\n",
      "        1    0.000    0.000    6.885    6.885 1534522923.py:16(generate_unique_paths)\n",
      "        1    0.000    0.000    6.886    6.886 {built-in method builtins.exec}\n",
      "       49    0.000    0.000    0.000    0.000 {method 'append' of 'list' objects}\n",
      "        1    0.000    0.000    0.000    0.000 {method 'disable' of '_lsprof.Profiler' objects}"
     ]
    }
   ],
   "source": [
    "def gen_contestants(N):\n",
    "    \"\"\"\n",
    "    Generate a unique set of girls and guys for N couples.\n",
    "    Returns a dictionary of each set.\n",
    "    \"\"\"\n",
    "    return dict(\n",
    "        girls=list(it.islice(ascii_uppercase, N, 2 * N)),\n",
    "        guys=list(it.islice(ascii_uppercase, 0, N))\n",
    "    )"
   ]
  },
  {
   "cell_type": "code",
   "execution_count": 77,
   "metadata": {},
   "outputs": [
    {
     "name": "stdout",
     "output_type": "stream",
     "text": [
      "Number of paths for 10 contestants: 3,628,800\n",
      "First 10 paths:\n",
      "[('A', 'K'), ('B', 'L'), ('C', 'M'), ('D', 'N'), ('E', 'O'), ('F', 'P'), ('G', 'Q'), ('H', 'R'), ('I', 'S'), ('J', 'T')]\n",
      "[('A', 'K'), ('B', 'L'), ('C', 'M'), ('D', 'N'), ('E', 'O'), ('F', 'P'), ('G', 'Q'), ('H', 'R'), ('I', 'T'), ('J', 'S')]\n",
      "[('A', 'K'), ('B', 'L'), ('C', 'M'), ('D', 'N'), ('E', 'O'), ('F', 'P'), ('G', 'Q'), ('H', 'S'), ('I', 'R'), ('J', 'T')]\n",
      "[('A', 'K'), ('B', 'L'), ('C', 'M'), ('D', 'N'), ('E', 'O'), ('F', 'P'), ('G', 'Q'), ('H', 'S'), ('I', 'T'), ('J', 'R')]\n",
      "[('A', 'K'), ('B', 'L'), ('C', 'M'), ('D', 'N'), ('E', 'O'), ('F', 'P'), ('G', 'Q'), ('H', 'T'), ('I', 'R'), ('J', 'S')]\n",
      "[('A', 'K'), ('B', 'L'), ('C', 'M'), ('D', 'N'), ('E', 'O'), ('F', 'P'), ('G', 'Q'), ('H', 'T'), ('I', 'S'), ('J', 'R')]\n",
      "[('A', 'K'), ('B', 'L'), ('C', 'M'), ('D', 'N'), ('E', 'O'), ('F', 'P'), ('G', 'R'), ('H', 'Q'), ('I', 'S'), ('J', 'T')]\n",
      "[('A', 'K'), ('B', 'L'), ('C', 'M'), ('D', 'N'), ('E', 'O'), ('F', 'P'), ('G', 'R'), ('H', 'Q'), ('I', 'T'), ('J', 'S')]\n",
      "[('A', 'K'), ('B', 'L'), ('C', 'M'), ('D', 'N'), ('E', 'O'), ('F', 'P'), ('G', 'R'), ('H', 'S'), ('I', 'Q'), ('J', 'T')]\n",
      "[('A', 'K'), ('B', 'L'), ('C', 'M'), ('D', 'N'), ('E', 'O'), ('F', 'P'), ('G', 'R'), ('H', 'S'), ('I', 'T'), ('J', 'Q')]\n"
     ]
    }
   ],
   "source": [
    "N = 10\n",
    "\n",
    "def reduce_path(path):\n",
    "    \"\"\"\n",
    "    Reduces a path of matches to an unnested set of individuals.\n",
    "    \"\"\"\n",
    "    return reduce(add, path)\n",
    "\n",
    "\n",
    "def unique_couples(path):\n",
    "    \"\"\"\n",
    "    Tests whether a path of matches has unique individuals.\n",
    "    \"\"\"\n",
    "    count = Counter(reduce_path(path)).values()\n",
    "    return max(count) == 1\n",
    "\n",
    "\n",
    "def generate_unique_paths(guys, girls):\n",
    "    \"\"\"\n",
    "    Generate all unique paths (sets of couples).\n",
    "    Returns a list of lists (paths) of tuples (couples).\n",
    "    \"\"\"\n",
    "    # get all possible pairings\n",
    "    girl_perms = it.permutations(girls, len(girls))\n",
    "    return [list(zip(guys, girl_perm)) for girl_perm in girl_perms]\n",
    "\n",
    "girls, guys = gen_contestants(N).values()\n",
    "paths = generate_unique_paths(guys, girls)\n",
    "print(f\"Number of paths for {N} contestants: {len(paths):,.0f}\")\n",
    "\n",
    "n = factorial(N)\n",
    "if n != len(paths):\n",
    "    print(f\"ERROR: {n} != {len(paths)}\")\n",
    "\n",
    "print(\"First 10 paths:\")\n",
    "for path in paths[:10]:\n",
    "    print(path) #, unique_couples(path))\n",
    "\n",
    "# Check that all paths have unique couples\n",
    "# all([unique_couples(path) for path in paths])"
   ]
  },
  {
   "cell_type": "markdown",
   "metadata": {},
   "source": [
    "### Example: Assume first match is in the first ceremony with > 0 perfect matches"
   ]
  },
  {
   "cell_type": "code",
   "execution_count": 79,
   "metadata": {},
   "outputs": [
    {
     "name": "stdout",
     "output_type": "stream",
     "text": [
      "Number of paths to drop: 1,334,961 leaving 2,293,839 paths\n"
     ]
    }
   ],
   "source": [
    "c1_matchup = paths[0]\n",
    "paths_to_drop = filter(lambda x: not any(v in c1_matchup for v in x), paths)\n",
    "n_to_drop = len(list(paths_to_drop))\n",
    "remaining1 = \n",
    "print(f\"Number of paths to drop: {n_to_drop:,.0f} leaving {len(paths) - n_to_drop:,.0f} paths\")"
   ]
  },
  {
   "cell_type": "code",
   "execution_count": 84,
   "metadata": {},
   "outputs": [
    {
     "data": {
      "text/plain": [
       "2293839"
      ]
     },
     "execution_count": 84,
     "metadata": {},
     "output_type": "execute_result"
    }
   ],
   "source": [
    "remaining1 = [path for path in paths if any(match in c1_matchup for match in path)]\n",
    "len(remaining1)"
   ]
  },
  {
   "cell_type": "code",
   "execution_count": 86,
   "metadata": {},
   "outputs": [
    {
     "name": "stdout",
     "output_type": "stream",
     "text": [
      "Number of paths with A-L: 214,551, leaving 2,079,288 paths\n",
      "check: 2,079,288 paths\n"
     ]
    }
   ],
   "source": [
    "p2d = filter(lambda x: ('A', 'L') in x, remaining1)\n",
    "n_p2d = len(list(p2d))\n",
    "remaining2 = [path for path in remaining1 if ('A', 'L') not in path]\n",
    "print(f\"Number of paths with A-L: {n_p2d:,.0f}, leaving {len(remaining1) - n_p2d:,.0f} paths\")\n",
    "print(f\"check: {len(remaining2):,.0f} paths\")"
   ]
  },
  {
   "cell_type": "code",
   "execution_count": 89,
   "metadata": {},
   "outputs": [
    {
     "data": {
      "text/plain": [
       "Counter({0.0928380291715241: 56,\n",
       "         0.0918189303261501: 16,\n",
       "         0.10318484019529763: 16,\n",
       "         0.15513002527788358: 8,\n",
       "         0.17452127843761903: 2,\n",
       "         0.09092727895318013: 1})"
      ]
     },
     "execution_count": 89,
     "metadata": {},
     "output_type": "execute_result"
    }
   ],
   "source": [
    "n = len(remaining2)\n",
    "c = Counter((match for path in remaining2 for match in path))\n",
    "probs = {k: v / n for k, v in c.items()}\n",
    "freqs = Counter(probs.values())\n",
    "freqs"
   ]
  },
  {
   "cell_type": "code",
   "execution_count": 93,
   "metadata": {},
   "outputs": [
    {
     "data": {
      "text/plain": [
       "0.10101010101010101"
      ]
     },
     "execution_count": 93,
     "metadata": {},
     "output_type": "execute_result"
    }
   ],
   "source": [
    "np.average(list(freqs.keys()), weights=list(freqs.values()))"
   ]
  },
  {
   "cell_type": "markdown",
   "metadata": {},
   "source": [
    "# OLD CODE ..."
   ]
  },
  {
   "cell_type": "code",
   "execution_count": 2,
   "metadata": {},
   "outputs": [
    {
     "data": {
      "text/plain": [
       "{('A', 'F'): 1,\n",
       " ('B', 'G'): 1,\n",
       " ('C', 'H'): 1,\n",
       " ('B', 'H'): 1,\n",
       " ('C', 'G'): 1,\n",
       " ('A', 'G'): 1,\n",
       " ('B', 'F'): 1,\n",
       " ('C', 'F'): 1,\n",
       " ('A', 'H'): 1}"
      ]
     },
     "execution_count": 2,
     "metadata": {},
     "output_type": "execute_result"
    }
   ],
   "source": [
    "N = 3\n",
    "guys = list('ABC')\n",
    "girls = list('FGH')\n",
    "perms = it.permutations(girls, N)\n",
    "\n",
    "matches = {tuple(p): 1\n",
    "           for perm in perms\n",
    "           for p in zip(guys, perm)}\n",
    "matches"
   ]
  },
  {
   "cell_type": "code",
   "execution_count": 3,
   "metadata": {},
   "outputs": [
    {
     "name": "stdout",
     "output_type": "stream",
     "text": [
      "A F 1\n",
      "B G 1\n",
      "C H 1\n",
      "B H 1\n",
      "C G 1\n",
      "A G 1\n",
      "B F 1\n",
      "C F 1\n",
      "A H 1\n"
     ]
    }
   ],
   "source": [
    "for (i, c), v in matches.items():\n",
    "    print(i, c, v)"
   ]
  },
  {
   "cell_type": "code",
   "execution_count": 5,
   "metadata": {},
   "outputs": [
    {
     "name": "stdout",
     "output_type": "stream",
     "text": [
      "3,628,800 paths\n"
     ]
    }
   ],
   "source": [
    "N = 10\n",
    "guys = range(N)\n",
    "girls = range(N)\n",
    "perms = it.permutations(girls, N)\n",
    "    \n",
    "paths = [list(zip(guys, perm)) for perm in perms]\n",
    "n = len(paths)\n",
    "print(f'{n:,.0f} paths')"
   ]
  },
  {
   "cell_type": "code",
   "execution_count": 6,
   "metadata": {},
   "outputs": [],
   "source": [
    "idx = pd.Index(range(10), name='Guys')\n",
    "cols = pd.Index(range(10), name='Girls')"
   ]
  },
  {
   "cell_type": "code",
   "execution_count": 7,
   "metadata": {},
   "outputs": [
    {
     "data": {
      "text/plain": [
       "[(0, 0),\n",
       " (1, 1),\n",
       " (2, 2),\n",
       " (3, 3),\n",
       " (4, 4),\n",
       " (5, 5),\n",
       " (6, 6),\n",
       " (7, 7),\n",
       " (8, 8),\n",
       " (9, 9)]"
      ]
     },
     "execution_count": 7,
     "metadata": {},
     "output_type": "execute_result"
    }
   ],
   "source": [
    "path = paths[0]\n",
    "path"
   ]
  },
  {
   "cell_type": "code",
   "execution_count": 8,
   "metadata": {},
   "outputs": [],
   "source": [
    "def gen_matrix(males, females):\n",
    "    z = np.zeros((len(males), len(females)),\n",
    "                 dtype='int')\n",
    "    z[males, females] = 1\n",
    "    return z\n",
    "\n",
    "perms = it.permutations(girls, N)\n",
    "mats = np.concatenate([gen_matrix(guys, g) for g in perms])\n",
    "mats.shape"
   ]
  },
  {
   "cell_type": "code",
   "execution_count": 16,
   "metadata": {},
   "outputs": [
    {
     "data": {
      "text/html": [
       "<div>\n",
       "<style scoped>\n",
       "    .dataframe tbody tr th:only-of-type {\n",
       "        vertical-align: middle;\n",
       "    }\n",
       "\n",
       "    .dataframe tbody tr th {\n",
       "        vertical-align: top;\n",
       "    }\n",
       "\n",
       "    .dataframe thead th {\n",
       "        text-align: right;\n",
       "    }\n",
       "</style>\n",
       "<table border=\"1\" class=\"dataframe\">\n",
       "  <thead>\n",
       "    <tr style=\"text-align: right;\">\n",
       "      <th></th>\n",
       "      <th>Girls</th>\n",
       "      <th>0</th>\n",
       "      <th>1</th>\n",
       "      <th>2</th>\n",
       "      <th>3</th>\n",
       "      <th>4</th>\n",
       "      <th>5</th>\n",
       "      <th>6</th>\n",
       "      <th>7</th>\n",
       "      <th>8</th>\n",
       "      <th>9</th>\n",
       "    </tr>\n",
       "    <tr>\n",
       "      <th>Guys</th>\n",
       "      <th>Iteration</th>\n",
       "      <th></th>\n",
       "      <th></th>\n",
       "      <th></th>\n",
       "      <th></th>\n",
       "      <th></th>\n",
       "      <th></th>\n",
       "      <th></th>\n",
       "      <th></th>\n",
       "      <th></th>\n",
       "      <th></th>\n",
       "    </tr>\n",
       "  </thead>\n",
       "  <tbody>\n",
       "    <tr>\n",
       "      <th>0</th>\n",
       "      <th>0</th>\n",
       "      <td>1</td>\n",
       "      <td>0</td>\n",
       "      <td>0</td>\n",
       "      <td>0</td>\n",
       "      <td>0</td>\n",
       "      <td>0</td>\n",
       "      <td>0</td>\n",
       "      <td>0</td>\n",
       "      <td>0</td>\n",
       "      <td>0</td>\n",
       "    </tr>\n",
       "    <tr>\n",
       "      <th>1</th>\n",
       "      <th>0</th>\n",
       "      <td>0</td>\n",
       "      <td>1</td>\n",
       "      <td>0</td>\n",
       "      <td>0</td>\n",
       "      <td>0</td>\n",
       "      <td>0</td>\n",
       "      <td>0</td>\n",
       "      <td>0</td>\n",
       "      <td>0</td>\n",
       "      <td>0</td>\n",
       "    </tr>\n",
       "    <tr>\n",
       "      <th>2</th>\n",
       "      <th>0</th>\n",
       "      <td>0</td>\n",
       "      <td>0</td>\n",
       "      <td>1</td>\n",
       "      <td>0</td>\n",
       "      <td>0</td>\n",
       "      <td>0</td>\n",
       "      <td>0</td>\n",
       "      <td>0</td>\n",
       "      <td>0</td>\n",
       "      <td>0</td>\n",
       "    </tr>\n",
       "    <tr>\n",
       "      <th>3</th>\n",
       "      <th>0</th>\n",
       "      <td>0</td>\n",
       "      <td>0</td>\n",
       "      <td>0</td>\n",
       "      <td>1</td>\n",
       "      <td>0</td>\n",
       "      <td>0</td>\n",
       "      <td>0</td>\n",
       "      <td>0</td>\n",
       "      <td>0</td>\n",
       "      <td>0</td>\n",
       "    </tr>\n",
       "    <tr>\n",
       "      <th>4</th>\n",
       "      <th>0</th>\n",
       "      <td>0</td>\n",
       "      <td>0</td>\n",
       "      <td>0</td>\n",
       "      <td>0</td>\n",
       "      <td>1</td>\n",
       "      <td>0</td>\n",
       "      <td>0</td>\n",
       "      <td>0</td>\n",
       "      <td>0</td>\n",
       "      <td>0</td>\n",
       "    </tr>\n",
       "    <tr>\n",
       "      <th>5</th>\n",
       "      <th>0</th>\n",
       "      <td>0</td>\n",
       "      <td>0</td>\n",
       "      <td>0</td>\n",
       "      <td>0</td>\n",
       "      <td>0</td>\n",
       "      <td>1</td>\n",
       "      <td>0</td>\n",
       "      <td>0</td>\n",
       "      <td>0</td>\n",
       "      <td>0</td>\n",
       "    </tr>\n",
       "    <tr>\n",
       "      <th>6</th>\n",
       "      <th>0</th>\n",
       "      <td>0</td>\n",
       "      <td>0</td>\n",
       "      <td>0</td>\n",
       "      <td>0</td>\n",
       "      <td>0</td>\n",
       "      <td>0</td>\n",
       "      <td>1</td>\n",
       "      <td>0</td>\n",
       "      <td>0</td>\n",
       "      <td>0</td>\n",
       "    </tr>\n",
       "    <tr>\n",
       "      <th>7</th>\n",
       "      <th>0</th>\n",
       "      <td>0</td>\n",
       "      <td>0</td>\n",
       "      <td>0</td>\n",
       "      <td>0</td>\n",
       "      <td>0</td>\n",
       "      <td>0</td>\n",
       "      <td>0</td>\n",
       "      <td>1</td>\n",
       "      <td>0</td>\n",
       "      <td>0</td>\n",
       "    </tr>\n",
       "    <tr>\n",
       "      <th>8</th>\n",
       "      <th>0</th>\n",
       "      <td>0</td>\n",
       "      <td>0</td>\n",
       "      <td>0</td>\n",
       "      <td>0</td>\n",
       "      <td>0</td>\n",
       "      <td>0</td>\n",
       "      <td>0</td>\n",
       "      <td>0</td>\n",
       "      <td>1</td>\n",
       "      <td>0</td>\n",
       "    </tr>\n",
       "    <tr>\n",
       "      <th>9</th>\n",
       "      <th>0</th>\n",
       "      <td>0</td>\n",
       "      <td>0</td>\n",
       "      <td>0</td>\n",
       "      <td>0</td>\n",
       "      <td>0</td>\n",
       "      <td>0</td>\n",
       "      <td>0</td>\n",
       "      <td>0</td>\n",
       "      <td>0</td>\n",
       "      <td>1</td>\n",
       "    </tr>\n",
       "    <tr>\n",
       "      <th>0</th>\n",
       "      <th>1</th>\n",
       "      <td>1</td>\n",
       "      <td>0</td>\n",
       "      <td>0</td>\n",
       "      <td>0</td>\n",
       "      <td>0</td>\n",
       "      <td>0</td>\n",
       "      <td>0</td>\n",
       "      <td>0</td>\n",
       "      <td>0</td>\n",
       "      <td>0</td>\n",
       "    </tr>\n",
       "    <tr>\n",
       "      <th>1</th>\n",
       "      <th>1</th>\n",
       "      <td>0</td>\n",
       "      <td>1</td>\n",
       "      <td>0</td>\n",
       "      <td>0</td>\n",
       "      <td>0</td>\n",
       "      <td>0</td>\n",
       "      <td>0</td>\n",
       "      <td>0</td>\n",
       "      <td>0</td>\n",
       "      <td>0</td>\n",
       "    </tr>\n",
       "    <tr>\n",
       "      <th>2</th>\n",
       "      <th>1</th>\n",
       "      <td>0</td>\n",
       "      <td>0</td>\n",
       "      <td>1</td>\n",
       "      <td>0</td>\n",
       "      <td>0</td>\n",
       "      <td>0</td>\n",
       "      <td>0</td>\n",
       "      <td>0</td>\n",
       "      <td>0</td>\n",
       "      <td>0</td>\n",
       "    </tr>\n",
       "    <tr>\n",
       "      <th>3</th>\n",
       "      <th>1</th>\n",
       "      <td>0</td>\n",
       "      <td>0</td>\n",
       "      <td>0</td>\n",
       "      <td>1</td>\n",
       "      <td>0</td>\n",
       "      <td>0</td>\n",
       "      <td>0</td>\n",
       "      <td>0</td>\n",
       "      <td>0</td>\n",
       "      <td>0</td>\n",
       "    </tr>\n",
       "    <tr>\n",
       "      <th>4</th>\n",
       "      <th>1</th>\n",
       "      <td>0</td>\n",
       "      <td>0</td>\n",
       "      <td>0</td>\n",
       "      <td>0</td>\n",
       "      <td>1</td>\n",
       "      <td>0</td>\n",
       "      <td>0</td>\n",
       "      <td>0</td>\n",
       "      <td>0</td>\n",
       "      <td>0</td>\n",
       "    </tr>\n",
       "  </tbody>\n",
       "</table>\n",
       "</div>"
      ],
      "text/plain": [
       "Girls           0  1  2  3  4  5  6  7  8  9\n",
       "Guys Iteration                              \n",
       "0    0          1  0  0  0  0  0  0  0  0  0\n",
       "1    0          0  1  0  0  0  0  0  0  0  0\n",
       "2    0          0  0  1  0  0  0  0  0  0  0\n",
       "3    0          0  0  0  1  0  0  0  0  0  0\n",
       "4    0          0  0  0  0  1  0  0  0  0  0\n",
       "5    0          0  0  0  0  0  1  0  0  0  0\n",
       "6    0          0  0  0  0  0  0  1  0  0  0\n",
       "7    0          0  0  0  0  0  0  0  1  0  0\n",
       "8    0          0  0  0  0  0  0  0  0  1  0\n",
       "9    0          0  0  0  0  0  0  0  0  0  1\n",
       "0    1          1  0  0  0  0  0  0  0  0  0\n",
       "1    1          0  1  0  0  0  0  0  0  0  0\n",
       "2    1          0  0  1  0  0  0  0  0  0  0\n",
       "3    1          0  0  0  1  0  0  0  0  0  0\n",
       "4    1          0  0  0  0  1  0  0  0  0  0"
      ]
     },
     "execution_count": 16,
     "metadata": {},
     "output_type": "execute_result"
    }
   ],
   "source": [
    "n = mats.shape[0]\n",
    "idx = pd.Index(list(range(N)) * int(n/N), dtype='int', name='Guys')\n",
    "M = pd.DataFrame(mats, index=idx, columns=cols)\n",
    "data = np.array([i for i in range(int(n/N)) for _ in range(N)],\n",
    "                dtype='int')\n",
    "M['Iteration'] = data\n",
    "M = M.set_index('Iteration', append=True)\n",
    "M.head(15)"
   ]
  },
  {
   "cell_type": "markdown",
   "metadata": {},
   "source": [
    "#### Check for dupes"
   ]
  },
  {
   "cell_type": "code",
   "execution_count": 17,
   "metadata": {},
   "outputs": [
    {
     "data": {
      "text/plain": [
       "0"
      ]
     },
     "execution_count": 17,
     "metadata": {},
     "output_type": "execute_result"
    }
   ],
   "source": [
    "M.reset_index().duplicated().sum()"
   ]
  },
  {
   "cell_type": "code",
   "execution_count": 18,
   "metadata": {},
   "outputs": [
    {
     "name": "stdout",
     "output_type": "stream",
     "text": [
      "[(0, 0), (1, 1), (2, 2), (3, 3), (4, 4), (5, 5), (6, 6), (7, 7), (8, 8), (9, 9)]\n",
      "[(0, 0), (1, 1), (2, 2), (3, 3), (4, 4), (5, 5), (6, 6), (7, 7), (8, 9), (9, 8)]\n",
      "[(0, 0), (1, 1), (2, 2), (3, 3), (4, 4), (5, 5), (6, 6), (7, 8), (8, 7), (9, 9)]\n",
      "[(0, 0), (1, 1), (2, 2), (3, 3), (4, 4), (5, 5), (6, 6), (7, 8), (8, 9), (9, 7)]\n",
      "[(0, 0), (1, 1), (2, 2), (3, 3), (4, 4), (5, 5), (6, 6), (7, 9), (8, 7), (9, 8)]\n"
     ]
    }
   ],
   "source": [
    "for path in paths[:5]:\n",
    "    print(path)"
   ]
  },
  {
   "cell_type": "code",
   "execution_count": 19,
   "metadata": {},
   "outputs": [
    {
     "data": {
      "text/html": [
       "<div>\n",
       "<style scoped>\n",
       "    .dataframe tbody tr th:only-of-type {\n",
       "        vertical-align: middle;\n",
       "    }\n",
       "\n",
       "    .dataframe tbody tr th {\n",
       "        vertical-align: top;\n",
       "    }\n",
       "\n",
       "    .dataframe thead th {\n",
       "        text-align: right;\n",
       "    }\n",
       "</style>\n",
       "<table border=\"1\" class=\"dataframe\">\n",
       "  <thead>\n",
       "    <tr style=\"text-align: right;\">\n",
       "      <th>Girls</th>\n",
       "      <th>0</th>\n",
       "      <th>1</th>\n",
       "      <th>2</th>\n",
       "      <th>3</th>\n",
       "      <th>4</th>\n",
       "      <th>5</th>\n",
       "      <th>6</th>\n",
       "      <th>7</th>\n",
       "      <th>8</th>\n",
       "      <th>9</th>\n",
       "    </tr>\n",
       "  </thead>\n",
       "  <tbody>\n",
       "    <tr>\n",
       "      <th>count</th>\n",
       "      <td>3628800.0</td>\n",
       "      <td>3628800.0</td>\n",
       "      <td>3628800.0</td>\n",
       "      <td>3628800.0</td>\n",
       "      <td>3628800.0</td>\n",
       "      <td>3628800.0</td>\n",
       "      <td>3628800.0</td>\n",
       "      <td>3628800.0</td>\n",
       "      <td>3628800.0</td>\n",
       "      <td>3628800.0</td>\n",
       "    </tr>\n",
       "    <tr>\n",
       "      <th>mean</th>\n",
       "      <td>1.0</td>\n",
       "      <td>1.0</td>\n",
       "      <td>1.0</td>\n",
       "      <td>1.0</td>\n",
       "      <td>1.0</td>\n",
       "      <td>1.0</td>\n",
       "      <td>1.0</td>\n",
       "      <td>1.0</td>\n",
       "      <td>1.0</td>\n",
       "      <td>1.0</td>\n",
       "    </tr>\n",
       "    <tr>\n",
       "      <th>std</th>\n",
       "      <td>0.0</td>\n",
       "      <td>0.0</td>\n",
       "      <td>0.0</td>\n",
       "      <td>0.0</td>\n",
       "      <td>0.0</td>\n",
       "      <td>0.0</td>\n",
       "      <td>0.0</td>\n",
       "      <td>0.0</td>\n",
       "      <td>0.0</td>\n",
       "      <td>0.0</td>\n",
       "    </tr>\n",
       "    <tr>\n",
       "      <th>min</th>\n",
       "      <td>1.0</td>\n",
       "      <td>1.0</td>\n",
       "      <td>1.0</td>\n",
       "      <td>1.0</td>\n",
       "      <td>1.0</td>\n",
       "      <td>1.0</td>\n",
       "      <td>1.0</td>\n",
       "      <td>1.0</td>\n",
       "      <td>1.0</td>\n",
       "      <td>1.0</td>\n",
       "    </tr>\n",
       "    <tr>\n",
       "      <th>25%</th>\n",
       "      <td>1.0</td>\n",
       "      <td>1.0</td>\n",
       "      <td>1.0</td>\n",
       "      <td>1.0</td>\n",
       "      <td>1.0</td>\n",
       "      <td>1.0</td>\n",
       "      <td>1.0</td>\n",
       "      <td>1.0</td>\n",
       "      <td>1.0</td>\n",
       "      <td>1.0</td>\n",
       "    </tr>\n",
       "    <tr>\n",
       "      <th>50%</th>\n",
       "      <td>1.0</td>\n",
       "      <td>1.0</td>\n",
       "      <td>1.0</td>\n",
       "      <td>1.0</td>\n",
       "      <td>1.0</td>\n",
       "      <td>1.0</td>\n",
       "      <td>1.0</td>\n",
       "      <td>1.0</td>\n",
       "      <td>1.0</td>\n",
       "      <td>1.0</td>\n",
       "    </tr>\n",
       "    <tr>\n",
       "      <th>75%</th>\n",
       "      <td>1.0</td>\n",
       "      <td>1.0</td>\n",
       "      <td>1.0</td>\n",
       "      <td>1.0</td>\n",
       "      <td>1.0</td>\n",
       "      <td>1.0</td>\n",
       "      <td>1.0</td>\n",
       "      <td>1.0</td>\n",
       "      <td>1.0</td>\n",
       "      <td>1.0</td>\n",
       "    </tr>\n",
       "    <tr>\n",
       "      <th>max</th>\n",
       "      <td>1.0</td>\n",
       "      <td>1.0</td>\n",
       "      <td>1.0</td>\n",
       "      <td>1.0</td>\n",
       "      <td>1.0</td>\n",
       "      <td>1.0</td>\n",
       "      <td>1.0</td>\n",
       "      <td>1.0</td>\n",
       "      <td>1.0</td>\n",
       "      <td>1.0</td>\n",
       "    </tr>\n",
       "  </tbody>\n",
       "</table>\n",
       "</div>"
      ],
      "text/plain": [
       "Girls          0          1          2          3          4          5  \\\n",
       "count  3628800.0  3628800.0  3628800.0  3628800.0  3628800.0  3628800.0   \n",
       "mean         1.0        1.0        1.0        1.0        1.0        1.0   \n",
       "std          0.0        0.0        0.0        0.0        0.0        0.0   \n",
       "min          1.0        1.0        1.0        1.0        1.0        1.0   \n",
       "25%          1.0        1.0        1.0        1.0        1.0        1.0   \n",
       "50%          1.0        1.0        1.0        1.0        1.0        1.0   \n",
       "75%          1.0        1.0        1.0        1.0        1.0        1.0   \n",
       "max          1.0        1.0        1.0        1.0        1.0        1.0   \n",
       "\n",
       "Girls          6          7          8          9  \n",
       "count  3628800.0  3628800.0  3628800.0  3628800.0  \n",
       "mean         1.0        1.0        1.0        1.0  \n",
       "std          0.0        0.0        0.0        0.0  \n",
       "min          1.0        1.0        1.0        1.0  \n",
       "25%          1.0        1.0        1.0        1.0  \n",
       "50%          1.0        1.0        1.0        1.0  \n",
       "75%          1.0        1.0        1.0        1.0  \n",
       "max          1.0        1.0        1.0        1.0  "
      ]
     },
     "execution_count": 19,
     "metadata": {},
     "output_type": "execute_result"
    }
   ],
   "source": [
    "tots = M.groupby(level='Iteration').sum()\n",
    "tots.describe()"
   ]
  },
  {
   "cell_type": "code",
   "execution_count": 20,
   "metadata": {},
   "outputs": [
    {
     "data": {
      "text/plain": [
       "10    3628800\n",
       "dtype: int64"
      ]
     },
     "execution_count": 20,
     "metadata": {},
     "output_type": "execute_result"
    }
   ],
   "source": [
    "tots.sum(1).value_counts()"
   ]
  },
  {
   "cell_type": "code",
   "execution_count": 21,
   "metadata": {},
   "outputs": [
    {
     "data": {
      "text/plain": [
       "Guys  Iteration\n",
       "3     0            0\n",
       "      1            0\n",
       "      2            0\n",
       "      3            0\n",
       "      4            0\n",
       "                  ..\n",
       "      3628795      0\n",
       "      3628796      0\n",
       "      3628797      0\n",
       "      3628798      0\n",
       "      3628799      0\n",
       "Name: 4, Length: 3628800, dtype: int64"
      ]
     },
     "execution_count": 21,
     "metadata": {},
     "output_type": "execute_result"
    }
   ],
   "source": [
    "all = slice(None)\n",
    "M.loc[(3, all), 4]"
   ]
  },
  {
   "cell_type": "markdown",
   "metadata": {},
   "source": [
    "### Now that we have all possible matches, what is the best structure for working with them?\n",
    "* A single matrix of all scenarios?\n",
    "* A series of matrices?\n",
    "\n",
    "### Need to be able to drop paths with invalid matches\n",
    "* Could use brute force method and just search all paths for specific matches.  Is there a better way?\n",
    "\n",
    "### How will you account for overall results?\n",
    "* On the first round, all paths have equal probability and hence are equally weighted.\n",
    "* On subsequent rounds, you will update the weights based on the results for that round."
   ]
  },
  {
   "cell_type": "code",
   "execution_count": 22,
   "metadata": {},
   "outputs": [],
   "source": [
    "import are_you_the_one as ayto"
   ]
  },
  {
   "cell_type": "code",
   "execution_count": 23,
   "metadata": {},
   "outputs": [],
   "source": [
    "guys = [ayto.Guy(letter) for letter in list('ABCDE')]\n",
    "girls = [ayto.Girl(letter) for letter in list('FGHIJ')]\n",
    "tournament = ayto.Tournament(guys, girls)"
   ]
  },
  {
   "cell_type": "code",
   "execution_count": 24,
   "metadata": {},
   "outputs": [
    {
     "data": {
      "text/html": [
       "<div>\n",
       "<style scoped>\n",
       "    .dataframe tbody tr th:only-of-type {\n",
       "        vertical-align: middle;\n",
       "    }\n",
       "\n",
       "    .dataframe tbody tr th {\n",
       "        vertical-align: top;\n",
       "    }\n",
       "\n",
       "    .dataframe thead th {\n",
       "        text-align: right;\n",
       "    }\n",
       "</style>\n",
       "<table border=\"1\" class=\"dataframe\">\n",
       "  <thead>\n",
       "    <tr style=\"text-align: right;\">\n",
       "      <th></th>\n",
       "      <th>F</th>\n",
       "      <th>G</th>\n",
       "      <th>H</th>\n",
       "      <th>I</th>\n",
       "      <th>J</th>\n",
       "    </tr>\n",
       "  </thead>\n",
       "  <tbody>\n",
       "    <tr>\n",
       "      <th>A</th>\n",
       "      <td>0</td>\n",
       "      <td>0</td>\n",
       "      <td>0</td>\n",
       "      <td>0</td>\n",
       "      <td>0</td>\n",
       "    </tr>\n",
       "    <tr>\n",
       "      <th>B</th>\n",
       "      <td>0</td>\n",
       "      <td>0</td>\n",
       "      <td>0</td>\n",
       "      <td>0</td>\n",
       "      <td>0</td>\n",
       "    </tr>\n",
       "    <tr>\n",
       "      <th>C</th>\n",
       "      <td>0</td>\n",
       "      <td>0</td>\n",
       "      <td>0</td>\n",
       "      <td>0</td>\n",
       "      <td>0</td>\n",
       "    </tr>\n",
       "    <tr>\n",
       "      <th>D</th>\n",
       "      <td>0</td>\n",
       "      <td>0</td>\n",
       "      <td>0</td>\n",
       "      <td>0</td>\n",
       "      <td>0</td>\n",
       "    </tr>\n",
       "    <tr>\n",
       "      <th>E</th>\n",
       "      <td>0</td>\n",
       "      <td>0</td>\n",
       "      <td>0</td>\n",
       "      <td>0</td>\n",
       "      <td>0</td>\n",
       "    </tr>\n",
       "  </tbody>\n",
       "</table>\n",
       "</div>"
      ],
      "text/plain": [
       "   F  G  H  I  J\n",
       "A  0  0  0  0  0\n",
       "B  0  0  0  0  0\n",
       "C  0  0  0  0  0\n",
       "D  0  0  0  0  0\n",
       "E  0  0  0  0  0"
      ]
     },
     "execution_count": 24,
     "metadata": {},
     "output_type": "execute_result"
    }
   ],
   "source": [
    "tournament.grid.X"
   ]
  },
  {
   "cell_type": "code",
   "execution_count": null,
   "metadata": {},
   "outputs": [],
   "source": []
  }
 ],
 "metadata": {
  "kernelspec": {
   "display_name": "Python 3",
   "language": "python",
   "name": "python3"
  },
  "language_info": {
   "codemirror_mode": {
    "name": "ipython",
    "version": 3
   },
   "file_extension": ".py",
   "mimetype": "text/x-python",
   "name": "python",
   "nbconvert_exporter": "python",
   "pygments_lexer": "ipython3",
   "version": "3.11.5"
  }
 },
 "nbformat": 4,
 "nbformat_minor": 4
}
