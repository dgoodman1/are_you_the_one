{
 "cells": [
  {
   "cell_type": "code",
   "execution_count": 1,
   "metadata": {},
   "outputs": [],
   "source": [
    "import itertools as it\n",
    "from collections import defaultdict, Counter\n",
    "from functools import reduce\n",
    "from operator import add\n",
    "from math import factorial\n",
    "from string import ascii_uppercase\n",
    "import pandas as pd\n",
    "import numpy as np\n",
    "import matplotlib.pyplot as plt\n",
    "\n",
    "%matplotlib inline"
   ]
  },
  {
   "cell_type": "markdown",
   "metadata": {},
   "source": [
    "# Generate Unique Paths for All Permutations of Matches"
   ]
  },
  {
   "cell_type": "code",
   "execution_count": 3,
   "metadata": {},
   "outputs": [],
   "source": [
    "def gen_contestants(N):\n",
    "    \"\"\"\n",
    "    Generate a unique set of girls and guys for N couples.\n",
    "    Returns a dictionary of each set.\n",
    "    \"\"\"\n",
    "    return dict(\n",
    "        girls=set(it.islice(ascii_uppercase, N, 2 * N)),\n",
    "        guys=set(it.islice(ascii_uppercase, 0, N))\n",
    "    )"
   ]
  },
  {
   "cell_type": "code",
   "execution_count": 4,
   "metadata": {},
   "outputs": [
    {
     "name": "stdout",
     "output_type": "stream",
     "text": [
      "Number of paths for 4 contestants: 24\n",
      "First 10 paths:\n",
      "[('D', 'F'), ('B', 'H'), ('A', 'G'), ('C', 'E')]\n",
      "[('D', 'F'), ('B', 'H'), ('A', 'E'), ('C', 'G')]\n",
      "[('D', 'F'), ('B', 'G'), ('A', 'H'), ('C', 'E')]\n",
      "[('D', 'F'), ('B', 'G'), ('A', 'E'), ('C', 'H')]\n",
      "[('D', 'F'), ('B', 'E'), ('A', 'H'), ('C', 'G')]\n",
      "[('D', 'F'), ('B', 'E'), ('A', 'G'), ('C', 'H')]\n",
      "[('D', 'H'), ('B', 'F'), ('A', 'G'), ('C', 'E')]\n",
      "[('D', 'H'), ('B', 'F'), ('A', 'E'), ('C', 'G')]\n",
      "[('D', 'H'), ('B', 'G'), ('A', 'F'), ('C', 'E')]\n",
      "[('D', 'H'), ('B', 'G'), ('A', 'E'), ('C', 'F')]\n"
     ]
    }
   ],
   "source": [
    "N = 4\n",
    "\n",
    "def reduce_path(path):\n",
    "    \"\"\"\n",
    "    Reduces a path of matches to an unnested set of individuals.\n",
    "    \"\"\"\n",
    "    return reduce(add, path)\n",
    "\n",
    "\n",
    "def unique_couples(path):\n",
    "    \"\"\"\n",
    "    Tests whether a path of matches has unique individuals.\n",
    "    \"\"\"\n",
    "    count = Counter(reduce_path(path)).values()\n",
    "    return max(count) == 1\n",
    "\n",
    "\n",
    "def generate_unique_paths(guys, girls):\n",
    "    \"\"\"\n",
    "    Generate all unique paths (sets of couples).\n",
    "    Returns a list of lists (paths) of tuples (couples).\n",
    "    \"\"\"\n",
    "    # get all possible pairings\n",
    "    girl_perms = it.permutations(girls, len(girls))\n",
    "    return [list(zip(guys, girl_perm)) for girl_perm in girl_perms]\n",
    "\n",
    "girls, guys = gen_contestants(N).values()\n",
    "paths = generate_unique_paths(guys, girls)\n",
    "print(f\"Number of paths for {N} contestants: {len(paths):,.0f}\")\n",
    "\n",
    "n = factorial(N)\n",
    "if n != len(paths):\n",
    "    print(f\"ERROR: {n} != {len(paths)}\")\n",
    "\n",
    "print(\"First 10 paths:\")\n",
    "for path in paths[:10]:\n",
    "    print(path) #, unique_couples(path))\n",
    "\n",
    "# Check that all paths have unique couples\n",
    "# all([unique_couples(path) for path in paths])"
   ]
  },
  {
   "cell_type": "markdown",
   "metadata": {},
   "source": [
    "### How many paths contain each of the matches?"
   ]
  },
  {
   "cell_type": "code",
   "execution_count": 5,
   "metadata": {},
   "outputs": [
    {
     "data": {
      "text/html": [
       "<div>\n",
       "<style scoped>\n",
       "    .dataframe tbody tr th:only-of-type {\n",
       "        vertical-align: middle;\n",
       "    }\n",
       "\n",
       "    .dataframe tbody tr th {\n",
       "        vertical-align: top;\n",
       "    }\n",
       "\n",
       "    .dataframe thead th {\n",
       "        text-align: right;\n",
       "    }\n",
       "</style>\n",
       "<table border=\"1\" class=\"dataframe\">\n",
       "  <thead>\n",
       "    <tr style=\"text-align: right;\">\n",
       "      <th></th>\n",
       "      <th>count</th>\n",
       "      <th>prob</th>\n",
       "    </tr>\n",
       "    <tr>\n",
       "      <th>couple</th>\n",
       "      <th></th>\n",
       "      <th></th>\n",
       "    </tr>\n",
       "  </thead>\n",
       "  <tbody>\n",
       "    <tr>\n",
       "      <th>(D, F)</th>\n",
       "      <td>6</td>\n",
       "      <td>25.0%</td>\n",
       "    </tr>\n",
       "    <tr>\n",
       "      <th>(B, H)</th>\n",
       "      <td>6</td>\n",
       "      <td>25.0%</td>\n",
       "    </tr>\n",
       "    <tr>\n",
       "      <th>(A, G)</th>\n",
       "      <td>6</td>\n",
       "      <td>25.0%</td>\n",
       "    </tr>\n",
       "    <tr>\n",
       "      <th>(C, E)</th>\n",
       "      <td>6</td>\n",
       "      <td>25.0%</td>\n",
       "    </tr>\n",
       "    <tr>\n",
       "      <th>(A, E)</th>\n",
       "      <td>6</td>\n",
       "      <td>25.0%</td>\n",
       "    </tr>\n",
       "    <tr>\n",
       "      <th>(C, G)</th>\n",
       "      <td>6</td>\n",
       "      <td>25.0%</td>\n",
       "    </tr>\n",
       "    <tr>\n",
       "      <th>(B, G)</th>\n",
       "      <td>6</td>\n",
       "      <td>25.0%</td>\n",
       "    </tr>\n",
       "    <tr>\n",
       "      <th>(A, H)</th>\n",
       "      <td>6</td>\n",
       "      <td>25.0%</td>\n",
       "    </tr>\n",
       "    <tr>\n",
       "      <th>(C, H)</th>\n",
       "      <td>6</td>\n",
       "      <td>25.0%</td>\n",
       "    </tr>\n",
       "    <tr>\n",
       "      <th>(B, E)</th>\n",
       "      <td>6</td>\n",
       "      <td>25.0%</td>\n",
       "    </tr>\n",
       "    <tr>\n",
       "      <th>(D, H)</th>\n",
       "      <td>6</td>\n",
       "      <td>25.0%</td>\n",
       "    </tr>\n",
       "    <tr>\n",
       "      <th>(B, F)</th>\n",
       "      <td>6</td>\n",
       "      <td>25.0%</td>\n",
       "    </tr>\n",
       "  </tbody>\n",
       "</table>\n",
       "</div>"
      ],
      "text/plain": [
       "       count   prob\n",
       "couple             \n",
       "(D, F)     6  25.0%\n",
       "(B, H)     6  25.0%\n",
       "(A, G)     6  25.0%\n",
       "(C, E)     6  25.0%\n",
       "(A, E)     6  25.0%\n",
       "(C, G)     6  25.0%\n",
       "(B, G)     6  25.0%\n",
       "(A, H)     6  25.0%\n",
       "(C, H)     6  25.0%\n",
       "(B, E)     6  25.0%\n",
       "(D, H)     6  25.0%\n",
       "(B, F)     6  25.0%"
      ]
     },
     "execution_count": 5,
     "metadata": {},
     "output_type": "execute_result"
    }
   ],
   "source": [
    "def count_couple_paths(paths):\n",
    "    \"\"\"Count the number of paths that contain each couple.\"\"\"\n",
    "    n = len(paths)\n",
    "    dd = defaultdict(int)\n",
    "    for path in paths:\n",
    "        for couple in path:\n",
    "            dd[couple] += 1\n",
    "    # sum((1 if ('A', 'K') in path else 0 for path in paths))/n\n",
    "    df = pd.DataFrame.from_dict(dd, orient='index', columns=['count'])\n",
    "    df['prob'] = df['count'] / n\n",
    "    df.index.name = 'couple'\n",
    "\n",
    "    return df.sort_values('count', ascending=False)\n",
    "\n",
    "couple_paths = count_couple_paths(paths)\n",
    "couple_paths.apply({'count': '{:,.0f}'.format,\n",
    "                    'prob': '{:.1%}'.format}).head(12)"
   ]
  },
  {
   "cell_type": "markdown",
   "metadata": {},
   "source": [
    "## Example: Assume first match is in the first ceremony with > 0 and < 10 perfect matches\n",
    "We know that at least one of the matches is correct, so any paths that do not contain any of those matches does not have any PM's.  Since we know that that matchup does not contain all 10 perfect matches, we can drop that one as a candidate."
   ]
  },
  {
   "cell_type": "code",
   "execution_count": 6,
   "metadata": {},
   "outputs": [
    {
     "name": "stdout",
     "output_type": "stream",
     "text": [
      "Ceremony 1 matchup: [('D', 'F'), ('B', 'H'), ('A', 'G'), ('C', 'E')]\n"
     ]
    },
    {
     "ename": "AssertionError",
     "evalue": "",
     "output_type": "error",
     "traceback": [
      "\u001b[0;31m---------------------------------------------------------------------------\u001b[0m",
      "\u001b[0;31mAssertionError\u001b[0m                            Traceback (most recent call last)",
      "Cell \u001b[0;32mIn[6], line 60\u001b[0m\n\u001b[1;32m     58\u001b[0m ceremony1_matchup \u001b[38;5;241m=\u001b[39m paths[\u001b[38;5;241m0\u001b[39m]\n\u001b[1;32m     59\u001b[0m \u001b[38;5;28mprint\u001b[39m(\u001b[38;5;124mf\u001b[39m\u001b[38;5;124m\"\u001b[39m\u001b[38;5;124mCeremony 1 matchup: \u001b[39m\u001b[38;5;132;01m{\u001b[39;00mceremony1_matchup\u001b[38;5;132;01m}\u001b[39;00m\u001b[38;5;124m\"\u001b[39m)\n\u001b[0;32m---> 60\u001b[0m remaining1 \u001b[38;5;241m=\u001b[39m update_paths_for_ceremony(paths, ceremony1_matchup, \u001b[38;5;241m2\u001b[39m)\n\u001b[1;32m     61\u001b[0m n_paths \u001b[38;5;241m=\u001b[39m \u001b[38;5;28mlen\u001b[39m(paths)\n\u001b[1;32m     62\u001b[0m n_remaining1 \u001b[38;5;241m=\u001b[39m \u001b[38;5;28mlen\u001b[39m(remaining1)\n",
      "Cell \u001b[0;32mIn[6], line 45\u001b[0m, in \u001b[0;36mupdate_paths_for_ceremony\u001b[0;34m(paths, ceremony_matchups, n_perfect_matches)\u001b[0m\n\u001b[1;32m     40\u001b[0m \u001b[38;5;28;01mdef\u001b[39;00m \u001b[38;5;21mupdate_paths_for_ceremony\u001b[39m(paths, ceremony_matchups, n_perfect_matches):\n\u001b[1;32m     41\u001b[0m \u001b[38;5;250m    \u001b[39m\u001b[38;5;124;03m\"\"\"\u001b[39;00m\n\u001b[1;32m     42\u001b[0m \u001b[38;5;124;03m    Update paths for a ceremony.\u001b[39;00m\n\u001b[1;32m     43\u001b[0m \u001b[38;5;124;03m    Returns a list of paths that contain the ceremony.\u001b[39;00m\n\u001b[1;32m     44\u001b[0m \u001b[38;5;124;03m    \"\"\"\u001b[39;00m\n\u001b[0;32m---> 45\u001b[0m     \u001b[38;5;28;01massert\u001b[39;00m \u001b[38;5;28mlen\u001b[39m(ceremony_matchups) \u001b[38;5;241m==\u001b[39m \u001b[38;5;241m10\u001b[39m\n\u001b[1;32m     46\u001b[0m     \u001b[38;5;28;01massert\u001b[39;00m \u001b[38;5;241m0\u001b[39m \u001b[38;5;241m<\u001b[39m\u001b[38;5;241m=\u001b[39m n_perfect_matches \u001b[38;5;241m<\u001b[39m\u001b[38;5;241m=\u001b[39m \u001b[38;5;241m10\u001b[39m\n\u001b[1;32m     48\u001b[0m     \u001b[38;5;28;01mif\u001b[39;00m n_perfect_matches \u001b[38;5;241m==\u001b[39m \u001b[38;5;241m0\u001b[39m:\n\u001b[1;32m     49\u001b[0m         \u001b[38;5;66;03m# blackout\u001b[39;00m\n",
      "\u001b[0;31mAssertionError\u001b[0m: "
     ]
    }
   ],
   "source": [
    "def drop_paths_without_these_couples(paths, couples, inclusive=False):\n",
    "    \"\"\"\n",
    "    Drop paths that do not contain any of the couples.\n",
    "\n",
    "    Parameters\n",
    "    ----------\n",
    "    paths : list of lists\n",
    "        List of paths (lists of tuples).\n",
    "    couples : list of tuples\n",
    "        A single path or List of 10 couples to drop.\n",
    "    inclusive : bool, default False\n",
    "        If True, drop the given path.\n",
    "\n",
    "    Returns a list of paths that include at least\n",
    "    one of the couples.\n",
    "    \"\"\"\n",
    "    if inclusive:\n",
    "        return set(filter(lambda x: any(v in x for v in couples) and \\\n",
    "                           x != couples, paths))\n",
    "    else:\n",
    "        return set(filter(lambda x: any(v in x for v in couples), paths))\n",
    "\n",
    "\n",
    "def drop_path(paths, path):\n",
    "    \"\"\"\n",
    "    Drop a path from a list of paths.\n",
    "    \"\"\"\n",
    "    return set(filter(lambda x: x != path, paths))\n",
    "\n",
    "\n",
    "def drop_paths_with_these_couples(paths, couples):\n",
    "    \"\"\"\n",
    "    Drop paths that contain any of the couples.\n",
    "    Returns a list of paths that do not contain\n",
    "    any of the couples. Useful for \"blackouts.\"\n",
    "    \"\"\"\n",
    "    return set(filter(lambda x: not any(v in x for v in couples), paths))\n",
    "\n",
    "\n",
    "def update_paths_for_ceremony(paths, ceremony_matchups, n_perfect_matches):\n",
    "    \"\"\"\n",
    "    Update paths for a ceremony.\n",
    "    Returns a list of paths that contain the ceremony.\n",
    "    \"\"\"\n",
    "    n_matchups = len(ceremony_matchups)\n",
    "    assert 0 <= n_perfect_matches <= n_matchups\n",
    "\n",
    "    if n_perfect_matches == 0:\n",
    "        # blackout\n",
    "        return drop_paths_with_these_couples(paths, ceremony_matchups)\n",
    "    elif n_perfect_matches == n_matchups:\n",
    "        return ceremony_matchups\n",
    "    else:\n",
    "        return drop_paths_without_these_couples(paths, ceremony_matchups,\n",
    "                                                inclusive=True)\n",
    "\n",
    "\n",
    "ceremony1_matchup = paths[0]\n",
    "print(f\"Ceremony 1 matchup: {ceremony1_matchup}\")\n",
    "remaining1 = update_paths_for_ceremony(paths, ceremony1_matchup, 2)\n",
    "n_paths = len(paths)\n",
    "n_remaining1 = len(remaining1)\n",
    "print(f\"Number of paths dropped: {n_paths - n_remaining1:,.0f} leaving {n_remaining1:,.0f} paths\")"
   ]
  },
  {
   "cell_type": "markdown",
   "metadata": {},
   "source": [
    "### Which paths *now* have the highest probabilities?"
   ]
  },
  {
   "cell_type": "code",
   "execution_count": 17,
   "metadata": {},
   "outputs": [
    {
     "data": {
      "text/html": [
       "<div>\n",
       "<style scoped>\n",
       "    .dataframe tbody tr th:only-of-type {\n",
       "        vertical-align: middle;\n",
       "    }\n",
       "\n",
       "    .dataframe tbody tr th {\n",
       "        vertical-align: top;\n",
       "    }\n",
       "\n",
       "    .dataframe thead th {\n",
       "        text-align: right;\n",
       "    }\n",
       "</style>\n",
       "<table border=\"1\" class=\"dataframe\">\n",
       "  <thead>\n",
       "    <tr style=\"text-align: right;\">\n",
       "      <th></th>\n",
       "      <th>count</th>\n",
       "      <th>prob</th>\n",
       "    </tr>\n",
       "    <tr>\n",
       "      <th>couple</th>\n",
       "      <th></th>\n",
       "      <th></th>\n",
       "    </tr>\n",
       "  </thead>\n",
       "  <tbody>\n",
       "    <tr>\n",
       "      <th>(A, K)</th>\n",
       "      <td>362,879</td>\n",
       "      <td>15.8%</td>\n",
       "    </tr>\n",
       "    <tr>\n",
       "      <th>(J, T)</th>\n",
       "      <td>362,879</td>\n",
       "      <td>15.8%</td>\n",
       "    </tr>\n",
       "    <tr>\n",
       "      <th>(B, L)</th>\n",
       "      <td>362,879</td>\n",
       "      <td>15.8%</td>\n",
       "    </tr>\n",
       "    <tr>\n",
       "      <th>(H, R)</th>\n",
       "      <td>362,879</td>\n",
       "      <td>15.8%</td>\n",
       "    </tr>\n",
       "    <tr>\n",
       "      <th>(I, S)</th>\n",
       "      <td>362,879</td>\n",
       "      <td>15.8%</td>\n",
       "    </tr>\n",
       "    <tr>\n",
       "      <th>(F, P)</th>\n",
       "      <td>362,879</td>\n",
       "      <td>15.8%</td>\n",
       "    </tr>\n",
       "    <tr>\n",
       "      <th>(D, N)</th>\n",
       "      <td>362,879</td>\n",
       "      <td>15.8%</td>\n",
       "    </tr>\n",
       "    <tr>\n",
       "      <th>(C, M)</th>\n",
       "      <td>362,879</td>\n",
       "      <td>15.8%</td>\n",
       "    </tr>\n",
       "    <tr>\n",
       "      <th>(E, O)</th>\n",
       "      <td>362,879</td>\n",
       "      <td>15.8%</td>\n",
       "    </tr>\n",
       "    <tr>\n",
       "      <th>(G, Q)</th>\n",
       "      <td>362,879</td>\n",
       "      <td>15.8%</td>\n",
       "    </tr>\n",
       "    <tr>\n",
       "      <th>(J, R)</th>\n",
       "      <td>214,551</td>\n",
       "      <td>9.4%</td>\n",
       "    </tr>\n",
       "    <tr>\n",
       "      <th>(H, Q)</th>\n",
       "      <td>214,551</td>\n",
       "      <td>9.4%</td>\n",
       "    </tr>\n",
       "  </tbody>\n",
       "</table>\n",
       "</div>"
      ],
      "text/plain": [
       "          count   prob\n",
       "couple                \n",
       "(A, K)  362,879  15.8%\n",
       "(J, T)  362,879  15.8%\n",
       "(B, L)  362,879  15.8%\n",
       "(H, R)  362,879  15.8%\n",
       "(I, S)  362,879  15.8%\n",
       "(F, P)  362,879  15.8%\n",
       "(D, N)  362,879  15.8%\n",
       "(C, M)  362,879  15.8%\n",
       "(E, O)  362,879  15.8%\n",
       "(G, Q)  362,879  15.8%\n",
       "(J, R)  214,551   9.4%\n",
       "(H, Q)  214,551   9.4%"
      ]
     },
     "execution_count": 17,
     "metadata": {},
     "output_type": "execute_result"
    }
   ],
   "source": [
    "couple_paths1 = count_couple_paths(remaining1)\n",
    "couple_paths1.apply({'count': '{:,.0f}'.format,\n",
    "                     'prob': '{:.1%}'.format}).head(12)"
   ]
  },
  {
   "cell_type": "code",
   "execution_count": 41,
   "metadata": {},
   "outputs": [
    {
     "data": {
      "text/plain": [
       "count    362879.000000\n",
       "prob          0.158197\n",
       "Name: (A, K), dtype: float64"
      ]
     },
     "execution_count": 41,
     "metadata": {},
     "output_type": "execute_result"
    }
   ],
   "source": [
    "couple_paths1.iloc[0]"
   ]
  },
  {
   "cell_type": "code",
   "execution_count": 40,
   "metadata": {},
   "outputs": [
    {
     "data": {
      "text/plain": [
       "0.15819730948741803"
      ]
     },
     "execution_count": 40,
     "metadata": {},
     "output_type": "execute_result"
    }
   ],
   "source": [
    "362879/len(remaining1)"
   ]
  },
  {
   "cell_type": "markdown",
   "metadata": {},
   "source": [
    "Those that were dropped *increased* in probability (by 5.8%) because now there are relatively more paths that contain those matches.  Similarly, all other matches decreased in probability (by 0.6%) based on the number of paths containing those matches that are left.\n",
    "\n",
    "**This, however, does not account for the actual number of PM's that's revealed at the ceremony.**"
   ]
  },
  {
   "cell_type": "code",
   "execution_count": 34,
   "metadata": {},
   "outputs": [
    {
     "data": {
      "text/plain": [
       "2293838"
      ]
     },
     "execution_count": 34,
     "metadata": {},
     "output_type": "execute_result"
    }
   ],
   "source": [
    "len(remaining1)"
   ]
  },
  {
   "cell_type": "code",
   "execution_count": 30,
   "metadata": {},
   "outputs": [
    {
     "data": {
      "text/plain": [
       "count\n",
       "214551    90\n",
       "362879    10\n",
       "Name: count, dtype: int64"
      ]
     },
     "execution_count": 30,
     "metadata": {},
     "output_type": "execute_result"
    }
   ],
   "source": [
    "couple_paths1['count'].value_counts()"
   ]
  },
  {
   "cell_type": "code",
   "execution_count": 29,
   "metadata": {},
   "outputs": [
    {
     "data": {
      "text/plain": [
       "couple\n",
       "(A, K)    0.058197\n",
       "(B, L)    0.058197\n",
       "(C, M)    0.058197\n",
       "(D, N)    0.058197\n",
       "(E, O)    0.058197\n",
       "(F, P)    0.058197\n",
       "(G, Q)    0.058197\n",
       "(H, R)    0.058197\n",
       "(I, S)    0.058197\n",
       "(J, T)    0.058197\n",
       "Name: prob, dtype: float64"
      ]
     },
     "execution_count": 29,
     "metadata": {},
     "output_type": "execute_result"
    }
   ],
   "source": [
    "couple_paths1.loc[ceremony1_matchup, 'prob'] - .1"
   ]
  },
  {
   "cell_type": "code",
   "execution_count": 27,
   "metadata": {},
   "outputs": [
    {
     "data": {
      "text/plain": [
       "path_prob\n",
       "1.000000    1334960\n",
       "1.064664     667485\n",
       "1.129327     222480\n",
       "1.193991      55650\n",
       "1.258655      11088\n",
       "1.323318       1890\n",
       "1.387982        240\n",
       "1.452646         45\n",
       "Name: count, dtype: int64"
      ]
     },
     "execution_count": 27,
     "metadata": {},
     "output_type": "execute_result"
    }
   ],
   "source": [
    "cp1_prob = couple_paths1['prob'].to_dict()\n",
    "remaining1_probs = pd.Series([sum(cp1_prob[couple] for couple in path)\n",
    "                              for path in remaining1], name='path_prob',\n",
    "                              dtype=np.float32).sort_values(ascending=False)\n",
    "remaining1_probs.value_counts().head(10)\n"
   ]
  },
  {
   "cell_type": "code",
   "execution_count": null,
   "metadata": {},
   "outputs": [],
   "source": [
    "top_paths_idx = remaining1_probs.index[:10]\n",
    "top_paths = [remaining1[i] for i in top_paths_idx]\n",
    "top_paths_midx = pd.MultiIndex.from_tuples([top_paths, range(1, 11)], names=['couple', ''])\n",
    "top_paths_probs = remaining1_probs[top_paths_idx]"
   ]
  },
  {
   "cell_type": "markdown",
   "metadata": {},
   "source": [
    "## Example: Truth Booth says (A, L) is not a Perfect Match"
   ]
  },
  {
   "cell_type": "code",
   "execution_count": 6,
   "metadata": {},
   "outputs": [
    {
     "name": "stdout",
     "output_type": "stream",
     "text": [
      "Number of paths with A-L: 214,551, leaving 2,079,288 paths\n",
      "check: 2,079,288 paths\n"
     ]
    }
   ],
   "source": [
    "p2d = filter(lambda x: ('A', 'L') in x, remaining1)\n",
    "n_p2d = len(list(p2d))\n",
    "remaining2 = [path for path in remaining1 if ('A', 'L') not in path]\n",
    "print(f\"Number of paths with A-L: {n_p2d:,.0f}, leaving {len(remaining1) - n_p2d:,.0f} paths\")\n",
    "print(f\"check: {len(remaining2):,.0f} paths\")"
   ]
  },
  {
   "cell_type": "code",
   "execution_count": 7,
   "metadata": {},
   "outputs": [
    {
     "data": {
      "text/plain": [
       "Counter({0.0928380291715241: 56,\n",
       "         0.0918189303261501: 16,\n",
       "         0.10318484019529763: 16,\n",
       "         0.15513002527788358: 8,\n",
       "         0.17452127843761903: 2,\n",
       "         0.09092727895318013: 1})"
      ]
     },
     "execution_count": 7,
     "metadata": {},
     "output_type": "execute_result"
    }
   ],
   "source": [
    "n = len(remaining2)\n",
    "c = Counter((match for path in remaining2 for match in path))\n",
    "probs = {k: v / n for k, v in c.items()}\n",
    "freqs = Counter(probs.values())\n",
    "freqs"
   ]
  },
  {
   "cell_type": "code",
   "execution_count": 9,
   "metadata": {},
   "outputs": [
    {
     "data": {
      "text/plain": [
       "0.10101010101010101"
      ]
     },
     "execution_count": 9,
     "metadata": {},
     "output_type": "execute_result"
    }
   ],
   "source": [
    "np.average(list(freqs.keys()), weights=list(freqs.values()))"
   ]
  },
  {
   "cell_type": "markdown",
   "metadata": {},
   "source": [
    "# OLD CODE ..."
   ]
  },
  {
   "cell_type": "code",
   "execution_count": 10,
   "metadata": {},
   "outputs": [
    {
     "data": {
      "text/plain": [
       "{('A', 'F'): 1,\n",
       " ('B', 'G'): 1,\n",
       " ('C', 'H'): 1,\n",
       " ('B', 'H'): 1,\n",
       " ('C', 'G'): 1,\n",
       " ('A', 'G'): 1,\n",
       " ('B', 'F'): 1,\n",
       " ('C', 'F'): 1,\n",
       " ('A', 'H'): 1}"
      ]
     },
     "execution_count": 10,
     "metadata": {},
     "output_type": "execute_result"
    }
   ],
   "source": [
    "N = 3\n",
    "guys = list('ABC')\n",
    "girls = list('FGH')\n",
    "perms = it.permutations(girls, N)\n",
    "\n",
    "matches = {tuple(p): 1\n",
    "           for perm in perms\n",
    "           for p in zip(guys, perm)}\n",
    "matches"
   ]
  },
  {
   "cell_type": "code",
   "execution_count": 11,
   "metadata": {},
   "outputs": [
    {
     "name": "stdout",
     "output_type": "stream",
     "text": [
      "A F 1\n",
      "B G 1\n",
      "C H 1\n",
      "B H 1\n",
      "C G 1\n",
      "A G 1\n",
      "B F 1\n",
      "C F 1\n",
      "A H 1\n"
     ]
    }
   ],
   "source": [
    "for (i, c), v in matches.items():\n",
    "    print(i, c, v)"
   ]
  },
  {
   "cell_type": "code",
   "execution_count": 12,
   "metadata": {},
   "outputs": [
    {
     "name": "stdout",
     "output_type": "stream",
     "text": [
      "3,628,800 paths\n"
     ]
    }
   ],
   "source": [
    "N = 10\n",
    "guys = range(N)\n",
    "girls = range(N)\n",
    "perms = it.permutations(girls, N)\n",
    "    \n",
    "paths = [list(zip(guys, perm)) for perm in perms]\n",
    "n = len(paths)\n",
    "print(f'{n:,.0f} paths')"
   ]
  },
  {
   "cell_type": "code",
   "execution_count": 13,
   "metadata": {},
   "outputs": [],
   "source": [
    "idx = pd.Index(range(10), name='Guys')\n",
    "cols = pd.Index(range(10), name='Girls')"
   ]
  },
  {
   "cell_type": "code",
   "execution_count": 14,
   "metadata": {},
   "outputs": [
    {
     "data": {
      "text/plain": [
       "[(0, 0),\n",
       " (1, 1),\n",
       " (2, 2),\n",
       " (3, 3),\n",
       " (4, 4),\n",
       " (5, 5),\n",
       " (6, 6),\n",
       " (7, 7),\n",
       " (8, 8),\n",
       " (9, 9)]"
      ]
     },
     "execution_count": 14,
     "metadata": {},
     "output_type": "execute_result"
    }
   ],
   "source": [
    "path = paths[0]\n",
    "path"
   ]
  },
  {
   "cell_type": "code",
   "execution_count": 15,
   "metadata": {},
   "outputs": [
    {
     "data": {
      "text/plain": [
       "(36288000, 10)"
      ]
     },
     "execution_count": 15,
     "metadata": {},
     "output_type": "execute_result"
    }
   ],
   "source": [
    "def gen_matrix(males, females):\n",
    "    z = np.zeros((len(males), len(females)),\n",
    "                 dtype='int')\n",
    "    z[males, females] = 1\n",
    "    return z\n",
    "\n",
    "perms = it.permutations(girls, N)\n",
    "mats = np.concatenate([gen_matrix(guys, g) for g in perms])\n",
    "mats.shape"
   ]
  },
  {
   "cell_type": "code",
   "execution_count": 16,
   "metadata": {},
   "outputs": [
    {
     "data": {
      "text/html": [
       "<div>\n",
       "<style scoped>\n",
       "    .dataframe tbody tr th:only-of-type {\n",
       "        vertical-align: middle;\n",
       "    }\n",
       "\n",
       "    .dataframe tbody tr th {\n",
       "        vertical-align: top;\n",
       "    }\n",
       "\n",
       "    .dataframe thead th {\n",
       "        text-align: right;\n",
       "    }\n",
       "</style>\n",
       "<table border=\"1\" class=\"dataframe\">\n",
       "  <thead>\n",
       "    <tr style=\"text-align: right;\">\n",
       "      <th></th>\n",
       "      <th>Girls</th>\n",
       "      <th>0</th>\n",
       "      <th>1</th>\n",
       "      <th>2</th>\n",
       "      <th>3</th>\n",
       "      <th>4</th>\n",
       "      <th>5</th>\n",
       "      <th>6</th>\n",
       "      <th>7</th>\n",
       "      <th>8</th>\n",
       "      <th>9</th>\n",
       "    </tr>\n",
       "    <tr>\n",
       "      <th>Guys</th>\n",
       "      <th>Iteration</th>\n",
       "      <th></th>\n",
       "      <th></th>\n",
       "      <th></th>\n",
       "      <th></th>\n",
       "      <th></th>\n",
       "      <th></th>\n",
       "      <th></th>\n",
       "      <th></th>\n",
       "      <th></th>\n",
       "      <th></th>\n",
       "    </tr>\n",
       "  </thead>\n",
       "  <tbody>\n",
       "    <tr>\n",
       "      <th>0</th>\n",
       "      <th>0</th>\n",
       "      <td>1</td>\n",
       "      <td>0</td>\n",
       "      <td>0</td>\n",
       "      <td>0</td>\n",
       "      <td>0</td>\n",
       "      <td>0</td>\n",
       "      <td>0</td>\n",
       "      <td>0</td>\n",
       "      <td>0</td>\n",
       "      <td>0</td>\n",
       "    </tr>\n",
       "    <tr>\n",
       "      <th>1</th>\n",
       "      <th>0</th>\n",
       "      <td>0</td>\n",
       "      <td>1</td>\n",
       "      <td>0</td>\n",
       "      <td>0</td>\n",
       "      <td>0</td>\n",
       "      <td>0</td>\n",
       "      <td>0</td>\n",
       "      <td>0</td>\n",
       "      <td>0</td>\n",
       "      <td>0</td>\n",
       "    </tr>\n",
       "    <tr>\n",
       "      <th>2</th>\n",
       "      <th>0</th>\n",
       "      <td>0</td>\n",
       "      <td>0</td>\n",
       "      <td>1</td>\n",
       "      <td>0</td>\n",
       "      <td>0</td>\n",
       "      <td>0</td>\n",
       "      <td>0</td>\n",
       "      <td>0</td>\n",
       "      <td>0</td>\n",
       "      <td>0</td>\n",
       "    </tr>\n",
       "    <tr>\n",
       "      <th>3</th>\n",
       "      <th>0</th>\n",
       "      <td>0</td>\n",
       "      <td>0</td>\n",
       "      <td>0</td>\n",
       "      <td>1</td>\n",
       "      <td>0</td>\n",
       "      <td>0</td>\n",
       "      <td>0</td>\n",
       "      <td>0</td>\n",
       "      <td>0</td>\n",
       "      <td>0</td>\n",
       "    </tr>\n",
       "    <tr>\n",
       "      <th>4</th>\n",
       "      <th>0</th>\n",
       "      <td>0</td>\n",
       "      <td>0</td>\n",
       "      <td>0</td>\n",
       "      <td>0</td>\n",
       "      <td>1</td>\n",
       "      <td>0</td>\n",
       "      <td>0</td>\n",
       "      <td>0</td>\n",
       "      <td>0</td>\n",
       "      <td>0</td>\n",
       "    </tr>\n",
       "    <tr>\n",
       "      <th>5</th>\n",
       "      <th>0</th>\n",
       "      <td>0</td>\n",
       "      <td>0</td>\n",
       "      <td>0</td>\n",
       "      <td>0</td>\n",
       "      <td>0</td>\n",
       "      <td>1</td>\n",
       "      <td>0</td>\n",
       "      <td>0</td>\n",
       "      <td>0</td>\n",
       "      <td>0</td>\n",
       "    </tr>\n",
       "    <tr>\n",
       "      <th>6</th>\n",
       "      <th>0</th>\n",
       "      <td>0</td>\n",
       "      <td>0</td>\n",
       "      <td>0</td>\n",
       "      <td>0</td>\n",
       "      <td>0</td>\n",
       "      <td>0</td>\n",
       "      <td>1</td>\n",
       "      <td>0</td>\n",
       "      <td>0</td>\n",
       "      <td>0</td>\n",
       "    </tr>\n",
       "    <tr>\n",
       "      <th>7</th>\n",
       "      <th>0</th>\n",
       "      <td>0</td>\n",
       "      <td>0</td>\n",
       "      <td>0</td>\n",
       "      <td>0</td>\n",
       "      <td>0</td>\n",
       "      <td>0</td>\n",
       "      <td>0</td>\n",
       "      <td>1</td>\n",
       "      <td>0</td>\n",
       "      <td>0</td>\n",
       "    </tr>\n",
       "    <tr>\n",
       "      <th>8</th>\n",
       "      <th>0</th>\n",
       "      <td>0</td>\n",
       "      <td>0</td>\n",
       "      <td>0</td>\n",
       "      <td>0</td>\n",
       "      <td>0</td>\n",
       "      <td>0</td>\n",
       "      <td>0</td>\n",
       "      <td>0</td>\n",
       "      <td>1</td>\n",
       "      <td>0</td>\n",
       "    </tr>\n",
       "    <tr>\n",
       "      <th>9</th>\n",
       "      <th>0</th>\n",
       "      <td>0</td>\n",
       "      <td>0</td>\n",
       "      <td>0</td>\n",
       "      <td>0</td>\n",
       "      <td>0</td>\n",
       "      <td>0</td>\n",
       "      <td>0</td>\n",
       "      <td>0</td>\n",
       "      <td>0</td>\n",
       "      <td>1</td>\n",
       "    </tr>\n",
       "    <tr>\n",
       "      <th>0</th>\n",
       "      <th>1</th>\n",
       "      <td>1</td>\n",
       "      <td>0</td>\n",
       "      <td>0</td>\n",
       "      <td>0</td>\n",
       "      <td>0</td>\n",
       "      <td>0</td>\n",
       "      <td>0</td>\n",
       "      <td>0</td>\n",
       "      <td>0</td>\n",
       "      <td>0</td>\n",
       "    </tr>\n",
       "    <tr>\n",
       "      <th>1</th>\n",
       "      <th>1</th>\n",
       "      <td>0</td>\n",
       "      <td>1</td>\n",
       "      <td>0</td>\n",
       "      <td>0</td>\n",
       "      <td>0</td>\n",
       "      <td>0</td>\n",
       "      <td>0</td>\n",
       "      <td>0</td>\n",
       "      <td>0</td>\n",
       "      <td>0</td>\n",
       "    </tr>\n",
       "    <tr>\n",
       "      <th>2</th>\n",
       "      <th>1</th>\n",
       "      <td>0</td>\n",
       "      <td>0</td>\n",
       "      <td>1</td>\n",
       "      <td>0</td>\n",
       "      <td>0</td>\n",
       "      <td>0</td>\n",
       "      <td>0</td>\n",
       "      <td>0</td>\n",
       "      <td>0</td>\n",
       "      <td>0</td>\n",
       "    </tr>\n",
       "    <tr>\n",
       "      <th>3</th>\n",
       "      <th>1</th>\n",
       "      <td>0</td>\n",
       "      <td>0</td>\n",
       "      <td>0</td>\n",
       "      <td>1</td>\n",
       "      <td>0</td>\n",
       "      <td>0</td>\n",
       "      <td>0</td>\n",
       "      <td>0</td>\n",
       "      <td>0</td>\n",
       "      <td>0</td>\n",
       "    </tr>\n",
       "    <tr>\n",
       "      <th>4</th>\n",
       "      <th>1</th>\n",
       "      <td>0</td>\n",
       "      <td>0</td>\n",
       "      <td>0</td>\n",
       "      <td>0</td>\n",
       "      <td>1</td>\n",
       "      <td>0</td>\n",
       "      <td>0</td>\n",
       "      <td>0</td>\n",
       "      <td>0</td>\n",
       "      <td>0</td>\n",
       "    </tr>\n",
       "  </tbody>\n",
       "</table>\n",
       "</div>"
      ],
      "text/plain": [
       "Girls           0  1  2  3  4  5  6  7  8  9\n",
       "Guys Iteration                              \n",
       "0    0          1  0  0  0  0  0  0  0  0  0\n",
       "1    0          0  1  0  0  0  0  0  0  0  0\n",
       "2    0          0  0  1  0  0  0  0  0  0  0\n",
       "3    0          0  0  0  1  0  0  0  0  0  0\n",
       "4    0          0  0  0  0  1  0  0  0  0  0\n",
       "5    0          0  0  0  0  0  1  0  0  0  0\n",
       "6    0          0  0  0  0  0  0  1  0  0  0\n",
       "7    0          0  0  0  0  0  0  0  1  0  0\n",
       "8    0          0  0  0  0  0  0  0  0  1  0\n",
       "9    0          0  0  0  0  0  0  0  0  0  1\n",
       "0    1          1  0  0  0  0  0  0  0  0  0\n",
       "1    1          0  1  0  0  0  0  0  0  0  0\n",
       "2    1          0  0  1  0  0  0  0  0  0  0\n",
       "3    1          0  0  0  1  0  0  0  0  0  0\n",
       "4    1          0  0  0  0  1  0  0  0  0  0"
      ]
     },
     "execution_count": 16,
     "metadata": {},
     "output_type": "execute_result"
    }
   ],
   "source": [
    "n = mats.shape[0]\n",
    "idx = pd.Index(list(range(N)) * int(n/N), dtype='int', name='Guys')\n",
    "M = pd.DataFrame(mats, index=idx, columns=cols)\n",
    "data = np.array([i for i in range(int(n/N)) for _ in range(N)],\n",
    "                dtype='int')\n",
    "M['Iteration'] = data\n",
    "M = M.set_index('Iteration', append=True)\n",
    "M.head(15)"
   ]
  },
  {
   "cell_type": "markdown",
   "metadata": {},
   "source": [
    "#### Check for dupes"
   ]
  },
  {
   "cell_type": "code",
   "execution_count": 17,
   "metadata": {},
   "outputs": [],
   "source": [
    "M.reset_index().duplicated().sum()"
   ]
  },
  {
   "cell_type": "code",
   "execution_count": 18,
   "metadata": {},
   "outputs": [
    {
     "name": "stdout",
     "output_type": "stream",
     "text": [
      "[(0, 0), (1, 1), (2, 2), (3, 3), (4, 4), (5, 5), (6, 6), (7, 7), (8, 8), (9, 9)]\n",
      "[(0, 0), (1, 1), (2, 2), (3, 3), (4, 4), (5, 5), (6, 6), (7, 7), (8, 9), (9, 8)]\n",
      "[(0, 0), (1, 1), (2, 2), (3, 3), (4, 4), (5, 5), (6, 6), (7, 8), (8, 7), (9, 9)]\n",
      "[(0, 0), (1, 1), (2, 2), (3, 3), (4, 4), (5, 5), (6, 6), (7, 8), (8, 9), (9, 7)]\n",
      "[(0, 0), (1, 1), (2, 2), (3, 3), (4, 4), (5, 5), (6, 6), (7, 9), (8, 7), (9, 8)]\n"
     ]
    }
   ],
   "source": [
    "for path in paths[:5]:\n",
    "    print(path)"
   ]
  },
  {
   "cell_type": "code",
   "execution_count": 19,
   "metadata": {},
   "outputs": [
    {
     "data": {
      "text/html": [
       "<div>\n",
       "<style scoped>\n",
       "    .dataframe tbody tr th:only-of-type {\n",
       "        vertical-align: middle;\n",
       "    }\n",
       "\n",
       "    .dataframe tbody tr th {\n",
       "        vertical-align: top;\n",
       "    }\n",
       "\n",
       "    .dataframe thead th {\n",
       "        text-align: right;\n",
       "    }\n",
       "</style>\n",
       "<table border=\"1\" class=\"dataframe\">\n",
       "  <thead>\n",
       "    <tr style=\"text-align: right;\">\n",
       "      <th>Girls</th>\n",
       "      <th>0</th>\n",
       "      <th>1</th>\n",
       "      <th>2</th>\n",
       "      <th>3</th>\n",
       "      <th>4</th>\n",
       "      <th>5</th>\n",
       "      <th>6</th>\n",
       "      <th>7</th>\n",
       "      <th>8</th>\n",
       "      <th>9</th>\n",
       "    </tr>\n",
       "  </thead>\n",
       "  <tbody>\n",
       "    <tr>\n",
       "      <th>count</th>\n",
       "      <td>3628800.0</td>\n",
       "      <td>3628800.0</td>\n",
       "      <td>3628800.0</td>\n",
       "      <td>3628800.0</td>\n",
       "      <td>3628800.0</td>\n",
       "      <td>3628800.0</td>\n",
       "      <td>3628800.0</td>\n",
       "      <td>3628800.0</td>\n",
       "      <td>3628800.0</td>\n",
       "      <td>3628800.0</td>\n",
       "    </tr>\n",
       "    <tr>\n",
       "      <th>mean</th>\n",
       "      <td>1.0</td>\n",
       "      <td>1.0</td>\n",
       "      <td>1.0</td>\n",
       "      <td>1.0</td>\n",
       "      <td>1.0</td>\n",
       "      <td>1.0</td>\n",
       "      <td>1.0</td>\n",
       "      <td>1.0</td>\n",
       "      <td>1.0</td>\n",
       "      <td>1.0</td>\n",
       "    </tr>\n",
       "    <tr>\n",
       "      <th>std</th>\n",
       "      <td>0.0</td>\n",
       "      <td>0.0</td>\n",
       "      <td>0.0</td>\n",
       "      <td>0.0</td>\n",
       "      <td>0.0</td>\n",
       "      <td>0.0</td>\n",
       "      <td>0.0</td>\n",
       "      <td>0.0</td>\n",
       "      <td>0.0</td>\n",
       "      <td>0.0</td>\n",
       "    </tr>\n",
       "    <tr>\n",
       "      <th>min</th>\n",
       "      <td>1.0</td>\n",
       "      <td>1.0</td>\n",
       "      <td>1.0</td>\n",
       "      <td>1.0</td>\n",
       "      <td>1.0</td>\n",
       "      <td>1.0</td>\n",
       "      <td>1.0</td>\n",
       "      <td>1.0</td>\n",
       "      <td>1.0</td>\n",
       "      <td>1.0</td>\n",
       "    </tr>\n",
       "    <tr>\n",
       "      <th>25%</th>\n",
       "      <td>1.0</td>\n",
       "      <td>1.0</td>\n",
       "      <td>1.0</td>\n",
       "      <td>1.0</td>\n",
       "      <td>1.0</td>\n",
       "      <td>1.0</td>\n",
       "      <td>1.0</td>\n",
       "      <td>1.0</td>\n",
       "      <td>1.0</td>\n",
       "      <td>1.0</td>\n",
       "    </tr>\n",
       "    <tr>\n",
       "      <th>50%</th>\n",
       "      <td>1.0</td>\n",
       "      <td>1.0</td>\n",
       "      <td>1.0</td>\n",
       "      <td>1.0</td>\n",
       "      <td>1.0</td>\n",
       "      <td>1.0</td>\n",
       "      <td>1.0</td>\n",
       "      <td>1.0</td>\n",
       "      <td>1.0</td>\n",
       "      <td>1.0</td>\n",
       "    </tr>\n",
       "    <tr>\n",
       "      <th>75%</th>\n",
       "      <td>1.0</td>\n",
       "      <td>1.0</td>\n",
       "      <td>1.0</td>\n",
       "      <td>1.0</td>\n",
       "      <td>1.0</td>\n",
       "      <td>1.0</td>\n",
       "      <td>1.0</td>\n",
       "      <td>1.0</td>\n",
       "      <td>1.0</td>\n",
       "      <td>1.0</td>\n",
       "    </tr>\n",
       "    <tr>\n",
       "      <th>max</th>\n",
       "      <td>1.0</td>\n",
       "      <td>1.0</td>\n",
       "      <td>1.0</td>\n",
       "      <td>1.0</td>\n",
       "      <td>1.0</td>\n",
       "      <td>1.0</td>\n",
       "      <td>1.0</td>\n",
       "      <td>1.0</td>\n",
       "      <td>1.0</td>\n",
       "      <td>1.0</td>\n",
       "    </tr>\n",
       "  </tbody>\n",
       "</table>\n",
       "</div>"
      ],
      "text/plain": [
       "Girls          0          1          2          3          4          5  \\\n",
       "count  3628800.0  3628800.0  3628800.0  3628800.0  3628800.0  3628800.0   \n",
       "mean         1.0        1.0        1.0        1.0        1.0        1.0   \n",
       "std          0.0        0.0        0.0        0.0        0.0        0.0   \n",
       "min          1.0        1.0        1.0        1.0        1.0        1.0   \n",
       "25%          1.0        1.0        1.0        1.0        1.0        1.0   \n",
       "50%          1.0        1.0        1.0        1.0        1.0        1.0   \n",
       "75%          1.0        1.0        1.0        1.0        1.0        1.0   \n",
       "max          1.0        1.0        1.0        1.0        1.0        1.0   \n",
       "\n",
       "Girls          6          7          8          9  \n",
       "count  3628800.0  3628800.0  3628800.0  3628800.0  \n",
       "mean         1.0        1.0        1.0        1.0  \n",
       "std          0.0        0.0        0.0        0.0  \n",
       "min          1.0        1.0        1.0        1.0  \n",
       "25%          1.0        1.0        1.0        1.0  \n",
       "50%          1.0        1.0        1.0        1.0  \n",
       "75%          1.0        1.0        1.0        1.0  \n",
       "max          1.0        1.0        1.0        1.0  "
      ]
     },
     "execution_count": 19,
     "metadata": {},
     "output_type": "execute_result"
    }
   ],
   "source": [
    "tots = M.groupby(level='Iteration').sum()\n",
    "tots.describe()"
   ]
  },
  {
   "cell_type": "code",
   "execution_count": 20,
   "metadata": {},
   "outputs": [
    {
     "data": {
      "text/plain": [
       "10    3628800\n",
       "dtype: int64"
      ]
     },
     "execution_count": 20,
     "metadata": {},
     "output_type": "execute_result"
    }
   ],
   "source": [
    "tots.sum(1).value_counts()"
   ]
  },
  {
   "cell_type": "code",
   "execution_count": 21,
   "metadata": {},
   "outputs": [
    {
     "data": {
      "text/plain": [
       "Guys  Iteration\n",
       "3     0            0\n",
       "      1            0\n",
       "      2            0\n",
       "      3            0\n",
       "      4            0\n",
       "                  ..\n",
       "      3628795      0\n",
       "      3628796      0\n",
       "      3628797      0\n",
       "      3628798      0\n",
       "      3628799      0\n",
       "Name: 4, Length: 3628800, dtype: int64"
      ]
     },
     "execution_count": 21,
     "metadata": {},
     "output_type": "execute_result"
    }
   ],
   "source": [
    "all = slice(None)\n",
    "M.loc[(3, all), 4]"
   ]
  },
  {
   "cell_type": "markdown",
   "metadata": {},
   "source": [
    "### Now that we have all possible matches, what is the best structure for working with them?\n",
    "* A single matrix of all scenarios?\n",
    "* A series of matrices?\n",
    "\n",
    "### Need to be able to drop paths with invalid matches\n",
    "* Could use brute force method and just search all paths for specific matches.  Is there a better way?\n",
    "\n",
    "### How will you account for overall results?\n",
    "* On the first round, all paths have equal probability and hence are equally weighted.\n",
    "* On subsequent rounds, you will update the weights based on the results for that round."
   ]
  },
  {
   "cell_type": "code",
   "execution_count": 22,
   "metadata": {},
   "outputs": [],
   "source": [
    "import are_you_the_one as ayto"
   ]
  },
  {
   "cell_type": "code",
   "execution_count": 23,
   "metadata": {},
   "outputs": [],
   "source": [
    "guys = [ayto.Guy(letter) for letter in list('ABCDE')]\n",
    "girls = [ayto.Girl(letter) for letter in list('FGHIJ')]\n",
    "tournament = ayto.Tournament(guys, girls)"
   ]
  },
  {
   "cell_type": "code",
   "execution_count": 24,
   "metadata": {},
   "outputs": [
    {
     "data": {
      "text/html": [
       "<div>\n",
       "<style scoped>\n",
       "    .dataframe tbody tr th:only-of-type {\n",
       "        vertical-align: middle;\n",
       "    }\n",
       "\n",
       "    .dataframe tbody tr th {\n",
       "        vertical-align: top;\n",
       "    }\n",
       "\n",
       "    .dataframe thead th {\n",
       "        text-align: right;\n",
       "    }\n",
       "</style>\n",
       "<table border=\"1\" class=\"dataframe\">\n",
       "  <thead>\n",
       "    <tr style=\"text-align: right;\">\n",
       "      <th></th>\n",
       "      <th>F</th>\n",
       "      <th>G</th>\n",
       "      <th>H</th>\n",
       "      <th>I</th>\n",
       "      <th>J</th>\n",
       "    </tr>\n",
       "  </thead>\n",
       "  <tbody>\n",
       "    <tr>\n",
       "      <th>A</th>\n",
       "      <td>0</td>\n",
       "      <td>0</td>\n",
       "      <td>0</td>\n",
       "      <td>0</td>\n",
       "      <td>0</td>\n",
       "    </tr>\n",
       "    <tr>\n",
       "      <th>B</th>\n",
       "      <td>0</td>\n",
       "      <td>0</td>\n",
       "      <td>0</td>\n",
       "      <td>0</td>\n",
       "      <td>0</td>\n",
       "    </tr>\n",
       "    <tr>\n",
       "      <th>C</th>\n",
       "      <td>0</td>\n",
       "      <td>0</td>\n",
       "      <td>0</td>\n",
       "      <td>0</td>\n",
       "      <td>0</td>\n",
       "    </tr>\n",
       "    <tr>\n",
       "      <th>D</th>\n",
       "      <td>0</td>\n",
       "      <td>0</td>\n",
       "      <td>0</td>\n",
       "      <td>0</td>\n",
       "      <td>0</td>\n",
       "    </tr>\n",
       "    <tr>\n",
       "      <th>E</th>\n",
       "      <td>0</td>\n",
       "      <td>0</td>\n",
       "      <td>0</td>\n",
       "      <td>0</td>\n",
       "      <td>0</td>\n",
       "    </tr>\n",
       "  </tbody>\n",
       "</table>\n",
       "</div>"
      ],
      "text/plain": [
       "   F  G  H  I  J\n",
       "A  0  0  0  0  0\n",
       "B  0  0  0  0  0\n",
       "C  0  0  0  0  0\n",
       "D  0  0  0  0  0\n",
       "E  0  0  0  0  0"
      ]
     },
     "execution_count": 24,
     "metadata": {},
     "output_type": "execute_result"
    }
   ],
   "source": [
    "tournament.grid.X"
   ]
  },
  {
   "cell_type": "code",
   "execution_count": null,
   "metadata": {},
   "outputs": [],
   "source": []
  }
 ],
 "metadata": {
  "kernelspec": {
   "display_name": "Python 3",
   "language": "python",
   "name": "python3"
  },
  "language_info": {
   "codemirror_mode": {
    "name": "ipython",
    "version": 3
   },
   "file_extension": ".py",
   "mimetype": "text/x-python",
   "name": "python",
   "nbconvert_exporter": "python",
   "pygments_lexer": "ipython3",
   "version": "3.11.5"
  }
 },
 "nbformat": 4,
 "nbformat_minor": 4
}
