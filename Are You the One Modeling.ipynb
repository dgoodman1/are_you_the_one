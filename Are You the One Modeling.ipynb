{
 "cells": [
  {
   "cell_type": "code",
   "execution_count": 1,
   "metadata": {},
   "outputs": [],
   "source": [
    "import pandas as pd\n",
    "import numpy as np\n",
    "import itertools as it"
   ]
  },
  {
   "cell_type": "markdown",
   "metadata": {},
   "source": [
    "### Example: List out all possible matches"
   ]
  },
  {
   "cell_type": "code",
   "execution_count": 11,
   "metadata": {},
   "outputs": [
    {
     "name": "stdout",
     "output_type": "stream",
     "text": [
      "(('A', 'F'), ('B', 'G'), ('C', 'H'))\n",
      "(('A', 'F'), ('B', 'H'), ('C', 'G'))\n",
      "(('A', 'G'), ('B', 'F'), ('C', 'H'))\n",
      "(('A', 'G'), ('B', 'H'), ('C', 'F'))\n",
      "(('A', 'H'), ('B', 'F'), ('C', 'G'))\n",
      "(('A', 'H'), ('B', 'G'), ('C', 'F'))\n"
     ]
    }
   ],
   "source": [
    "guys = list('ABC')\n",
    "girls = list('FGH')\n",
    "perms = it.permutations(girls, 3)\n",
    "\n",
    "for perm in perms:\n",
    "    print(tuple(zip(guys, perm)))"
   ]
  },
  {
   "cell_type": "code",
   "execution_count": 17,
   "metadata": {},
   "outputs": [
    {
     "data": {
      "text/plain": [
       "3628800"
      ]
     },
     "execution_count": 17,
     "metadata": {},
     "output_type": "execute_result"
    }
   ],
   "source": [
    "N = 10\n",
    "guys = range(N)\n",
    "girls = range(N)\n",
    "perms = it.permutations(girls, N)\n",
    "\n",
    "paths = [list(zip(guys, perm)) for perm in perms]\n",
    "len(paths)"
   ]
  },
  {
   "cell_type": "markdown",
   "metadata": {},
   "source": [
    "### Need to be able to drop paths with invalid matches"
   ]
  },
  {
   "cell_type": "code",
   "execution_count": 20,
   "metadata": {},
   "outputs": [
    {
     "name": "stdout",
     "output_type": "stream",
     "text": [
      "[(0, 0), (1, 1), (2, 2), (3, 3), (4, 4), (5, 5), (6, 6), (7, 7), (8, 8), (9, 9)]\n",
      "[(0, 0), (1, 1), (2, 2), (3, 3), (4, 4), (5, 5), (6, 6), (7, 7), (8, 9), (9, 8)]\n",
      "[(0, 0), (1, 1), (2, 2), (3, 3), (4, 4), (5, 5), (6, 6), (7, 8), (8, 7), (9, 9)]\n",
      "[(0, 0), (1, 1), (2, 2), (3, 3), (4, 4), (5, 5), (6, 6), (7, 8), (8, 9), (9, 7)]\n",
      "[(0, 0), (1, 1), (2, 2), (3, 3), (4, 4), (5, 5), (6, 6), (7, 9), (8, 7), (9, 8)]\n"
     ]
    }
   ],
   "source": [
    "for path in paths[:5]:\n",
    "    print(path)"
   ]
  },
  {
   "cell_type": "code",
   "execution_count": null,
   "metadata": {},
   "outputs": [],
   "source": []
  },
  {
   "cell_type": "markdown",
   "metadata": {},
   "source": [
    "## All possible matches"
   ]
  },
  {
   "cell_type": "code",
   "execution_count": 90,
   "metadata": {},
   "outputs": [
    {
     "data": {
      "text/html": [
       "<div>\n",
       "<style scoped>\n",
       "    .dataframe tbody tr th:only-of-type {\n",
       "        vertical-align: middle;\n",
       "    }\n",
       "\n",
       "    .dataframe tbody tr th {\n",
       "        vertical-align: top;\n",
       "    }\n",
       "\n",
       "    .dataframe thead th {\n",
       "        text-align: right;\n",
       "    }\n",
       "</style>\n",
       "<table border=\"1\" class=\"dataframe\">\n",
       "  <thead>\n",
       "    <tr style=\"text-align: right;\">\n",
       "      <th></th>\n",
       "      <th>cows</th>\n",
       "      <th>sheep</th>\n",
       "    </tr>\n",
       "  </thead>\n",
       "  <tbody>\n",
       "    <tr>\n",
       "      <th>0</th>\n",
       "      <td>4</td>\n",
       "      <td>0</td>\n",
       "    </tr>\n",
       "    <tr>\n",
       "      <th>1</th>\n",
       "      <td>4</td>\n",
       "      <td>9</td>\n",
       "    </tr>\n",
       "    <tr>\n",
       "      <th>2</th>\n",
       "      <td>5</td>\n",
       "      <td>1</td>\n",
       "    </tr>\n",
       "    <tr>\n",
       "      <th>3</th>\n",
       "      <td>8</td>\n",
       "      <td>0</td>\n",
       "    </tr>\n",
       "    <tr>\n",
       "      <th>4</th>\n",
       "      <td>8</td>\n",
       "      <td>9</td>\n",
       "    </tr>\n",
       "  </tbody>\n",
       "</table>\n",
       "</div>"
      ],
      "text/plain": [
       "   cows  sheep\n",
       "0     4      0\n",
       "1     4      9\n",
       "2     5      1\n",
       "3     8      0\n",
       "4     8      9"
      ]
     },
     "execution_count": 90,
     "metadata": {},
     "output_type": "execute_result"
    }
   ],
   "source": [
    "n = 10\n",
    "cows = range(n)\n",
    "sheep = range(n)\n",
    "\n",
    "matches = set(itertools.product(cows, sheep))\n",
    "df = pd.DataFrame.from_records(list(matches), columns=['cows', 'sheep'])\n",
    "df.head()"
   ]
  },
  {
   "cell_type": "markdown",
   "metadata": {},
   "source": [
    "### Each of their unique paths"
   ]
  },
  {
   "cell_type": "code",
   "execution_count": 97,
   "metadata": {},
   "outputs": [],
   "source": [
    "paths = {i: (df.cows != rw['cows']) & (df.sheep != rw['sheep'])\n",
    "         for i, rw in df.iterrows()}"
   ]
  },
  {
   "cell_type": "code",
   "execution_count": 99,
   "metadata": {},
   "outputs": [
    {
     "name": "stdout",
     "output_type": "stream",
     "text": [
      "0: 81\n",
      "1: 81\n",
      "2: 81\n",
      "3: 81\n",
      "4: 81\n",
      "5: 81\n",
      "6: 81\n",
      "7: 81\n",
      "8: 81\n",
      "9: 81\n",
      "10: 81\n",
      "11: 81\n",
      "12: 81\n",
      "13: 81\n",
      "14: 81\n",
      "15: 81\n",
      "16: 81\n",
      "17: 81\n",
      "18: 81\n",
      "19: 81\n",
      "20: 81\n",
      "21: 81\n",
      "22: 81\n",
      "23: 81\n",
      "24: 81\n",
      "25: 81\n",
      "26: 81\n",
      "27: 81\n",
      "28: 81\n",
      "29: 81\n",
      "30: 81\n",
      "31: 81\n",
      "32: 81\n",
      "33: 81\n",
      "34: 81\n",
      "35: 81\n",
      "36: 81\n",
      "37: 81\n",
      "38: 81\n",
      "39: 81\n",
      "40: 81\n",
      "41: 81\n",
      "42: 81\n",
      "43: 81\n",
      "44: 81\n",
      "45: 81\n",
      "46: 81\n",
      "47: 81\n",
      "48: 81\n",
      "49: 81\n",
      "50: 81\n",
      "51: 81\n",
      "52: 81\n",
      "53: 81\n",
      "54: 81\n",
      "55: 81\n",
      "56: 81\n",
      "57: 81\n",
      "58: 81\n",
      "59: 81\n",
      "60: 81\n",
      "61: 81\n",
      "62: 81\n",
      "63: 81\n",
      "64: 81\n",
      "65: 81\n",
      "66: 81\n",
      "67: 81\n",
      "68: 81\n",
      "69: 81\n",
      "70: 81\n",
      "71: 81\n",
      "72: 81\n",
      "73: 81\n",
      "74: 81\n",
      "75: 81\n",
      "76: 81\n",
      "77: 81\n",
      "78: 81\n",
      "79: 81\n",
      "80: 81\n",
      "81: 81\n",
      "82: 81\n",
      "83: 81\n",
      "84: 81\n",
      "85: 81\n",
      "86: 81\n",
      "87: 81\n",
      "88: 81\n",
      "89: 81\n",
      "90: 81\n",
      "91: 81\n",
      "92: 81\n",
      "93: 81\n",
      "94: 81\n",
      "95: 81\n",
      "96: 81\n",
      "97: 81\n",
      "98: 81\n",
      "99: 81\n"
     ]
    }
   ],
   "source": [
    "for i, mask in paths.items():\n",
    "    print(f'{i:.0f}: {mask.sum():,.0f}')"
   ]
  },
  {
   "cell_type": "code",
   "execution_count": 94,
   "metadata": {},
   "outputs": [
    {
     "data": {
      "text/html": [
       "<div>\n",
       "<style scoped>\n",
       "    .dataframe tbody tr th:only-of-type {\n",
       "        vertical-align: middle;\n",
       "    }\n",
       "\n",
       "    .dataframe tbody tr th {\n",
       "        vertical-align: top;\n",
       "    }\n",
       "\n",
       "    .dataframe thead th {\n",
       "        text-align: right;\n",
       "    }\n",
       "</style>\n",
       "<table border=\"1\" class=\"dataframe\">\n",
       "  <thead>\n",
       "    <tr style=\"text-align: right;\">\n",
       "      <th></th>\n",
       "      <th>K</th>\n",
       "      <th>L</th>\n",
       "      <th>M</th>\n",
       "      <th>N</th>\n",
       "      <th>O</th>\n",
       "      <th>P</th>\n",
       "      <th>Q</th>\n",
       "      <th>R</th>\n",
       "      <th>S</th>\n",
       "      <th>T</th>\n",
       "    </tr>\n",
       "  </thead>\n",
       "  <tbody>\n",
       "    <tr>\n",
       "      <th>A</th>\n",
       "      <td>1</td>\n",
       "      <td>0</td>\n",
       "      <td>0</td>\n",
       "      <td>0</td>\n",
       "      <td>0</td>\n",
       "      <td>0</td>\n",
       "      <td>0</td>\n",
       "      <td>0</td>\n",
       "      <td>0</td>\n",
       "      <td>0</td>\n",
       "    </tr>\n",
       "    <tr>\n",
       "      <th>B</th>\n",
       "      <td>0</td>\n",
       "      <td>1</td>\n",
       "      <td>0</td>\n",
       "      <td>0</td>\n",
       "      <td>0</td>\n",
       "      <td>0</td>\n",
       "      <td>0</td>\n",
       "      <td>0</td>\n",
       "      <td>0</td>\n",
       "      <td>0</td>\n",
       "    </tr>\n",
       "    <tr>\n",
       "      <th>C</th>\n",
       "      <td>0</td>\n",
       "      <td>0</td>\n",
       "      <td>1</td>\n",
       "      <td>0</td>\n",
       "      <td>0</td>\n",
       "      <td>0</td>\n",
       "      <td>0</td>\n",
       "      <td>0</td>\n",
       "      <td>0</td>\n",
       "      <td>0</td>\n",
       "    </tr>\n",
       "    <tr>\n",
       "      <th>D</th>\n",
       "      <td>0</td>\n",
       "      <td>0</td>\n",
       "      <td>0</td>\n",
       "      <td>1</td>\n",
       "      <td>0</td>\n",
       "      <td>0</td>\n",
       "      <td>0</td>\n",
       "      <td>0</td>\n",
       "      <td>0</td>\n",
       "      <td>0</td>\n",
       "    </tr>\n",
       "    <tr>\n",
       "      <th>E</th>\n",
       "      <td>0</td>\n",
       "      <td>0</td>\n",
       "      <td>0</td>\n",
       "      <td>0</td>\n",
       "      <td>1</td>\n",
       "      <td>0</td>\n",
       "      <td>0</td>\n",
       "      <td>0</td>\n",
       "      <td>0</td>\n",
       "      <td>0</td>\n",
       "    </tr>\n",
       "  </tbody>\n",
       "</table>\n",
       "</div>"
      ],
      "text/plain": [
       "   K  L  M  N  O  P  Q  R  S  T\n",
       "A  1  0  0  0  0  0  0  0  0  0\n",
       "B  0  1  0  0  0  0  0  0  0  0\n",
       "C  0  0  1  0  0  0  0  0  0  0\n",
       "D  0  0  0  1  0  0  0  0  0  0\n",
       "E  0  0  0  0  1  0  0  0  0  0"
      ]
     },
     "execution_count": 94,
     "metadata": {},
     "output_type": "execute_result"
    }
   ],
   "source": [
    "cows = list('ABCDEFGHIJ')\n",
    "sheep = list('KLMNOPQRST')\n",
    "\n",
    "grid = pd.DataFrame(np.identity(10, dtype='int'),\n",
    "                    index=cows, columns=sheep)\n",
    "grid.head()"
   ]
  },
  {
   "cell_type": "code",
   "execution_count": null,
   "metadata": {},
   "outputs": [],
   "source": []
  },
  {
   "cell_type": "code",
   "execution_count": null,
   "metadata": {},
   "outputs": [],
   "source": []
  },
  {
   "cell_type": "code",
   "execution_count": 66,
   "metadata": {},
   "outputs": [
    {
     "name": "stdout",
     "output_type": "stream",
     "text": [
      "('F', 'A')\n",
      "('G', 'B')\n",
      "('H', 'C')\n",
      "('F', 'A')\n",
      "('G', 'C')\n",
      "('H', 'B')\n",
      "('F', 'B')\n",
      "('G', 'A')\n",
      "('H', 'C')\n",
      "('F', 'B')\n",
      "('G', 'C')\n",
      "('H', 'A')\n",
      "('F', 'C')\n",
      "('G', 'A')\n",
      "('H', 'B')\n",
      "('F', 'C')\n",
      "('G', 'B')\n",
      "('H', 'A')\n"
     ]
    }
   ],
   "source": [
    "results = []\n",
    "for combo in itertools.permutations(list('ABC')):\n",
    "    for match in zip(list('FGH'), combo):\n",
    "        results.append(match)\n",
    "        print(match)"
   ]
  },
  {
   "cell_type": "code",
   "execution_count": 76,
   "metadata": {},
   "outputs": [
    {
     "name": "stdout",
     "output_type": "stream",
     "text": [
      "('F', 'A')\n",
      "('G', 'A')\n",
      "('H', 'A')\n",
      "('F', 'A')\n",
      "('G', 'A')\n",
      "('H', 'A')\n",
      "('F', 'B')\n",
      "('G', 'B')\n",
      "('H', 'B')\n",
      "\n",
      "n = 9\n"
     ]
    }
   ],
   "source": [
    "results = []\n",
    "for perm in combinations(list('ABC'), 2):\n",
    "    for combo in combinations(list('FGH'), 1):\n",
    "        for match in zip(combo, perm):\n",
    "            results.append(match)\n",
    "            print(match)\n",
    "\n",
    "print(f'\\nn = {len(results):.0f}')"
   ]
  },
  {
   "cell_type": "code",
   "execution_count": null,
   "metadata": {},
   "outputs": [],
   "source": []
  },
  {
   "cell_type": "code",
   "execution_count": 4,
   "metadata": {},
   "outputs": [],
   "source": [
    "import are_you_the_one as ayto"
   ]
  },
  {
   "cell_type": "code",
   "execution_count": 5,
   "metadata": {},
   "outputs": [],
   "source": [
    "guys = [ayto.Guy(letter) for letter in list('ABCDE')]\n",
    "girls = [ayto.Girl(letter) for letter in list('FGHIJ')]\n",
    "tournament = ayto.Tournament(guys, girls)"
   ]
  },
  {
   "cell_type": "code",
   "execution_count": null,
   "metadata": {},
   "outputs": [],
   "source": []
  },
  {
   "cell_type": "code",
   "execution_count": 8,
   "metadata": {},
   "outputs": [
    {
     "data": {
      "text/html": [
       "<div>\n",
       "<style scoped>\n",
       "    .dataframe tbody tr th:only-of-type {\n",
       "        vertical-align: middle;\n",
       "    }\n",
       "\n",
       "    .dataframe tbody tr th {\n",
       "        vertical-align: top;\n",
       "    }\n",
       "\n",
       "    .dataframe thead th {\n",
       "        text-align: right;\n",
       "    }\n",
       "</style>\n",
       "<table border=\"1\" class=\"dataframe\">\n",
       "  <thead>\n",
       "    <tr style=\"text-align: right;\">\n",
       "      <th></th>\n",
       "      <th>F</th>\n",
       "      <th>G</th>\n",
       "      <th>H</th>\n",
       "      <th>I</th>\n",
       "      <th>J</th>\n",
       "    </tr>\n",
       "  </thead>\n",
       "  <tbody>\n",
       "    <tr>\n",
       "      <th>A</th>\n",
       "      <td>0</td>\n",
       "      <td>0</td>\n",
       "      <td>0</td>\n",
       "      <td>0</td>\n",
       "      <td>0</td>\n",
       "    </tr>\n",
       "    <tr>\n",
       "      <th>B</th>\n",
       "      <td>0</td>\n",
       "      <td>0</td>\n",
       "      <td>0</td>\n",
       "      <td>0</td>\n",
       "      <td>0</td>\n",
       "    </tr>\n",
       "    <tr>\n",
       "      <th>C</th>\n",
       "      <td>0</td>\n",
       "      <td>0</td>\n",
       "      <td>0</td>\n",
       "      <td>0</td>\n",
       "      <td>0</td>\n",
       "    </tr>\n",
       "    <tr>\n",
       "      <th>D</th>\n",
       "      <td>0</td>\n",
       "      <td>0</td>\n",
       "      <td>0</td>\n",
       "      <td>0</td>\n",
       "      <td>0</td>\n",
       "    </tr>\n",
       "    <tr>\n",
       "      <th>E</th>\n",
       "      <td>0</td>\n",
       "      <td>0</td>\n",
       "      <td>0</td>\n",
       "      <td>0</td>\n",
       "      <td>0</td>\n",
       "    </tr>\n",
       "  </tbody>\n",
       "</table>\n",
       "</div>"
      ],
      "text/plain": [
       "   F  G  H  I  J\n",
       "A  0  0  0  0  0\n",
       "B  0  0  0  0  0\n",
       "C  0  0  0  0  0\n",
       "D  0  0  0  0  0\n",
       "E  0  0  0  0  0"
      ]
     },
     "execution_count": 8,
     "metadata": {},
     "output_type": "execute_result"
    }
   ],
   "source": [
    "tournament.grid.X"
   ]
  },
  {
   "cell_type": "code",
   "execution_count": null,
   "metadata": {},
   "outputs": [],
   "source": []
  }
 ],
 "metadata": {
  "kernelspec": {
   "display_name": "Python 3",
   "language": "python",
   "name": "python3"
  },
  "language_info": {
   "codemirror_mode": {
    "name": "ipython",
    "version": 3
   },
   "file_extension": ".py",
   "mimetype": "text/x-python",
   "name": "python",
   "nbconvert_exporter": "python",
   "pygments_lexer": "ipython3",
   "version": "3.8.3"
  }
 },
 "nbformat": 4,
 "nbformat_minor": 4
}
