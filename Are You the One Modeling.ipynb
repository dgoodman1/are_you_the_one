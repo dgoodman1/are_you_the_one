{
 "cells": [
  {
   "cell_type": "code",
   "execution_count": 1,
   "metadata": {},
   "outputs": [],
   "source": [
    "import itertools as it\n",
    "from collections import defaultdict, Counter\n",
    "from functools import reduce\n",
    "from operator import add\n",
    "from math import factorial\n",
    "from string import ascii_uppercase\n",
    "import pandas as pd\n",
    "import numpy as np\n",
    "import matplotlib.pyplot as plt\n",
    "\n",
    "%matplotlib inline"
   ]
  },
  {
   "cell_type": "markdown",
   "metadata": {},
   "source": [
    "# Generate Unique Paths for All Permutations of Matches"
   ]
  },
  {
   "cell_type": "code",
   "execution_count": 2,
   "metadata": {},
   "outputs": [],
   "source": [
    "def gen_contestants(N):\n",
    "    \"\"\"\n",
    "    Generate a unique set of girls and guys for N couples.\n",
    "    Returns a dictionary of each set.\n",
    "    \"\"\"\n",
    "    return dict(\n",
    "        girls=list(it.islice(ascii_uppercase, N, 2 * N)),\n",
    "        guys=list(it.islice(ascii_uppercase, 0, N))\n",
    "    )"
   ]
  },
  {
   "cell_type": "code",
   "execution_count": 3,
   "metadata": {},
   "outputs": [
    {
     "name": "stdout",
     "output_type": "stream",
     "text": [
      "Number of paths for 10 contestants: 3,628,800\n",
      "First 10 paths:\n",
      "[('A', 'K'), ('B', 'L'), ('C', 'M'), ('D', 'N'), ('E', 'O'), ('F', 'P'), ('G', 'Q'), ('H', 'R'), ('I', 'S'), ('J', 'T')]\n",
      "[('A', 'K'), ('B', 'L'), ('C', 'M'), ('D', 'N'), ('E', 'O'), ('F', 'P'), ('G', 'Q'), ('H', 'R'), ('I', 'T'), ('J', 'S')]\n",
      "[('A', 'K'), ('B', 'L'), ('C', 'M'), ('D', 'N'), ('E', 'O'), ('F', 'P'), ('G', 'Q'), ('H', 'S'), ('I', 'R'), ('J', 'T')]\n",
      "[('A', 'K'), ('B', 'L'), ('C', 'M'), ('D', 'N'), ('E', 'O'), ('F', 'P'), ('G', 'Q'), ('H', 'S'), ('I', 'T'), ('J', 'R')]\n",
      "[('A', 'K'), ('B', 'L'), ('C', 'M'), ('D', 'N'), ('E', 'O'), ('F', 'P'), ('G', 'Q'), ('H', 'T'), ('I', 'R'), ('J', 'S')]\n",
      "[('A', 'K'), ('B', 'L'), ('C', 'M'), ('D', 'N'), ('E', 'O'), ('F', 'P'), ('G', 'Q'), ('H', 'T'), ('I', 'S'), ('J', 'R')]\n",
      "[('A', 'K'), ('B', 'L'), ('C', 'M'), ('D', 'N'), ('E', 'O'), ('F', 'P'), ('G', 'R'), ('H', 'Q'), ('I', 'S'), ('J', 'T')]\n",
      "[('A', 'K'), ('B', 'L'), ('C', 'M'), ('D', 'N'), ('E', 'O'), ('F', 'P'), ('G', 'R'), ('H', 'Q'), ('I', 'T'), ('J', 'S')]\n",
      "[('A', 'K'), ('B', 'L'), ('C', 'M'), ('D', 'N'), ('E', 'O'), ('F', 'P'), ('G', 'R'), ('H', 'S'), ('I', 'Q'), ('J', 'T')]\n",
      "[('A', 'K'), ('B', 'L'), ('C', 'M'), ('D', 'N'), ('E', 'O'), ('F', 'P'), ('G', 'R'), ('H', 'S'), ('I', 'T'), ('J', 'Q')]\n"
     ]
    }
   ],
   "source": [
    "N = 10\n",
    "\n",
    "def reduce_path(path):\n",
    "    \"\"\"\n",
    "    Reduces a path of matches to an unnested set of individuals.\n",
    "    \"\"\"\n",
    "    return reduce(add, path)\n",
    "\n",
    "\n",
    "def unique_couples(path):\n",
    "    \"\"\"\n",
    "    Tests whether a path of matches has unique individuals.\n",
    "    \"\"\"\n",
    "    count = Counter(reduce_path(path)).values()\n",
    "    return max(count) == 1\n",
    "\n",
    "\n",
    "def generate_unique_paths(guys, girls):\n",
    "    \"\"\"\n",
    "    Generate all unique paths (sets of couples).\n",
    "    Returns a list of lists (paths) of tuples (couples).\n",
    "    \"\"\"\n",
    "    # get all possible pairings\n",
    "    girl_perms = it.permutations(girls, len(girls))\n",
    "    return [list(zip(guys, girl_perm)) for girl_perm in girl_perms]\n",
    "\n",
    "girls, guys = gen_contestants(N).values()\n",
    "paths = generate_unique_paths(guys, girls)\n",
    "print(f\"Number of paths for {N} contestants: {len(paths):,.0f}\")\n",
    "\n",
    "n = factorial(N)\n",
    "if n != len(paths):\n",
    "    print(f\"ERROR: {n} != {len(paths)}\")\n",
    "\n",
    "print(\"First 10 paths:\")\n",
    "for path in paths[:10]:\n",
    "    print(path) #, unique_couples(path))\n",
    "\n",
    "# Check that all paths have unique couples\n",
    "# all([unique_couples(path) for path in paths])"
   ]
  },
  {
   "cell_type": "markdown",
   "metadata": {},
   "source": [
    "### How many paths contain each of the matches?"
   ]
  },
  {
   "cell_type": "code",
   "execution_count": 11,
   "metadata": {},
   "outputs": [
    {
     "name": "stdout",
     "output_type": "stream",
     "text": [
      "('A', 'K') 362,880 (10.00%)\n",
      "('B', 'L') 362,880 (10.00%)\n",
      "('C', 'M') 362,880 (10.00%)\n",
      "('D', 'N') 362,880 (10.00%)\n",
      "('E', 'O') 362,880 (10.00%)\n",
      "('F', 'P') 362,880 (10.00%)\n",
      "('G', 'Q') 362,880 (10.00%)\n",
      "('H', 'R') 362,880 (10.00%)\n",
      "('I', 'S') 362,880 (10.00%)\n",
      "('J', 'T') 362,880 (10.00%)\n",
      "('I', 'T') 362,880 (10.00%)\n",
      "('J', 'S') 362,880 (10.00%)\n",
      "('H', 'S') 362,880 (10.00%)\n",
      "('I', 'R') 362,880 (10.00%)\n",
      "('J', 'R') 362,880 (10.00%)\n",
      "('H', 'T') 362,880 (10.00%)\n",
      "('G', 'R') 362,880 (10.00%)\n",
      "('H', 'Q') 362,880 (10.00%)\n",
      "('I', 'Q') 362,880 (10.00%)\n",
      "('J', 'Q') 362,880 (10.00%)\n",
      "('G', 'S') 362,880 (10.00%)\n",
      "('G', 'T') 362,880 (10.00%)\n",
      "('F', 'Q') 362,880 (10.00%)\n",
      "('G', 'P') 362,880 (10.00%)\n",
      "('H', 'P') 362,880 (10.00%)\n",
      "('I', 'P') 362,880 (10.00%)\n",
      "('J', 'P') 362,880 (10.00%)\n",
      "('F', 'R') 362,880 (10.00%)\n",
      "('F', 'S') 362,880 (10.00%)\n",
      "('F', 'T') 362,880 (10.00%)\n",
      "('E', 'P') 362,880 (10.00%)\n",
      "('F', 'O') 362,880 (10.00%)\n",
      "('G', 'O') 362,880 (10.00%)\n",
      "('H', 'O') 362,880 (10.00%)\n",
      "('I', 'O') 362,880 (10.00%)\n",
      "('J', 'O') 362,880 (10.00%)\n",
      "('E', 'Q') 362,880 (10.00%)\n",
      "('E', 'R') 362,880 (10.00%)\n",
      "('E', 'S') 362,880 (10.00%)\n",
      "('E', 'T') 362,880 (10.00%)\n",
      "('D', 'O') 362,880 (10.00%)\n",
      "('E', 'N') 362,880 (10.00%)\n",
      "('F', 'N') 362,880 (10.00%)\n",
      "('G', 'N') 362,880 (10.00%)\n",
      "('H', 'N') 362,880 (10.00%)\n",
      "('I', 'N') 362,880 (10.00%)\n",
      "('J', 'N') 362,880 (10.00%)\n",
      "('D', 'P') 362,880 (10.00%)\n",
      "('D', 'Q') 362,880 (10.00%)\n",
      "('D', 'R') 362,880 (10.00%)\n",
      "('D', 'S') 362,880 (10.00%)\n",
      "('D', 'T') 362,880 (10.00%)\n",
      "('C', 'N') 362,880 (10.00%)\n",
      "('D', 'M') 362,880 (10.00%)\n",
      "('E', 'M') 362,880 (10.00%)\n",
      "('F', 'M') 362,880 (10.00%)\n",
      "('G', 'M') 362,880 (10.00%)\n",
      "('H', 'M') 362,880 (10.00%)\n",
      "('I', 'M') 362,880 (10.00%)\n",
      "('J', 'M') 362,880 (10.00%)\n",
      "('C', 'O') 362,880 (10.00%)\n",
      "('C', 'P') 362,880 (10.00%)\n",
      "('C', 'Q') 362,880 (10.00%)\n",
      "('C', 'R') 362,880 (10.00%)\n",
      "('C', 'S') 362,880 (10.00%)\n",
      "('C', 'T') 362,880 (10.00%)\n",
      "('B', 'M') 362,880 (10.00%)\n",
      "('C', 'L') 362,880 (10.00%)\n",
      "('D', 'L') 362,880 (10.00%)\n",
      "('E', 'L') 362,880 (10.00%)\n",
      "('F', 'L') 362,880 (10.00%)\n",
      "('G', 'L') 362,880 (10.00%)\n",
      "('H', 'L') 362,880 (10.00%)\n",
      "('I', 'L') 362,880 (10.00%)\n",
      "('J', 'L') 362,880 (10.00%)\n",
      "('B', 'N') 362,880 (10.00%)\n",
      "('B', 'O') 362,880 (10.00%)\n",
      "('B', 'P') 362,880 (10.00%)\n",
      "('B', 'Q') 362,880 (10.00%)\n",
      "('B', 'R') 362,880 (10.00%)\n",
      "('B', 'S') 362,880 (10.00%)\n",
      "('B', 'T') 362,880 (10.00%)\n",
      "('A', 'L') 362,880 (10.00%)\n",
      "('B', 'K') 362,880 (10.00%)\n",
      "('C', 'K') 362,880 (10.00%)\n",
      "('D', 'K') 362,880 (10.00%)\n",
      "('E', 'K') 362,880 (10.00%)\n",
      "('F', 'K') 362,880 (10.00%)\n",
      "('G', 'K') 362,880 (10.00%)\n",
      "('H', 'K') 362,880 (10.00%)\n",
      "('I', 'K') 362,880 (10.00%)\n",
      "('J', 'K') 362,880 (10.00%)\n",
      "('A', 'M') 362,880 (10.00%)\n",
      "('A', 'N') 362,880 (10.00%)\n",
      "('A', 'O') 362,880 (10.00%)\n",
      "('A', 'P') 362,880 (10.00%)\n",
      "('A', 'Q') 362,880 (10.00%)\n",
      "('A', 'R') 362,880 (10.00%)\n",
      "('A', 'S') 362,880 (10.00%)\n",
      "('A', 'T') 362,880 (10.00%)\n"
     ]
    }
   ],
   "source": [
    "n = len(paths)\n",
    "dd = defaultdict(int)\n",
    "for path in paths:\n",
    "    for couple in path:\n",
    "        dd[couple] += 1\n",
    "# sum((1 if ('A', 'K') in path else 0 for path in paths))/n\n",
    "for k, v in dd.items():\n",
    "    print(k, f\"{v:,.0f} ({v/n:.2%})\")"
   ]
  },
  {
   "cell_type": "markdown",
   "metadata": {},
   "source": [
    "#### Total Number of unique couples"
   ]
  },
  {
   "cell_type": "code",
   "execution_count": 12,
   "metadata": {},
   "outputs": [
    {
     "data": {
      "text/plain": [
       "100"
      ]
     },
     "execution_count": 12,
     "metadata": {},
     "output_type": "execute_result"
    }
   ],
   "source": [
    "len(dd)"
   ]
  },
  {
   "cell_type": "markdown",
   "metadata": {},
   "source": [
    "## Example: Assume first match is in the first ceremony with > 0 perfect matches"
   ]
  },
  {
   "cell_type": "code",
   "execution_count": 13,
   "metadata": {},
   "outputs": [
    {
     "name": "stdout",
     "output_type": "stream",
     "text": [
      "Number of paths to drop: 1,334,961 leaving 2,293,839 paths\n"
     ]
    }
   ],
   "source": [
    "c1_matchup = paths[0]\n",
    "paths_to_drop = filter(lambda x: not any(v in c1_matchup for v in x), paths)\n",
    "n_to_drop = len(list(paths_to_drop))\n",
    "remaining1 = [path for path in paths if any(match in c1_matchup for match in path)]\n",
    "print(f\"Number of paths to drop: {n_to_drop:,.0f} leaving {len(paths) - n_to_drop:,.0f} paths\")"
   ]
  },
  {
   "cell_type": "markdown",
   "metadata": {},
   "source": [
    "### Which paths *now* have the highest probabilities?"
   ]
  },
  {
   "cell_type": "code",
   "execution_count": 26,
   "metadata": {},
   "outputs": [
    {
     "name": "stdout",
     "output_type": "stream",
     "text": [
      "1. ('A', 'K') 362,880 (15.8%)\n",
      "2. ('B', 'L') 362,880 (15.8%)\n",
      "3. ('C', 'M') 362,880 (15.8%)\n",
      "4. ('D', 'N') 362,880 (15.8%)\n",
      "5. ('E', 'O') 362,880 (15.8%)\n",
      "6. ('F', 'P') 362,880 (15.8%)\n",
      "7. ('G', 'Q') 362,880 (15.8%)\n",
      "8. ('H', 'R') 362,880 (15.8%)\n",
      "9. ('I', 'S') 362,880 (15.8%)\n",
      "10. ('J', 'T') 362,880 (15.8%)\n",
      "11. ('I', 'T') 214,551 (9.4%)\n"
     ]
    }
   ],
   "source": [
    "dd = defaultdict(int)\n",
    "for path in remaining1:\n",
    "    for couple in path:\n",
    "        dd[couple] += 1\n",
    "\n",
    "n = len(remaining1)\n",
    "d = dict(sorted(dd.items(), key=lambda x: x[1], reverse=True))\n",
    "for i, (k, v) in enumerate(d.items()):\n",
    "    if i < 11:\n",
    "        print(f\"{i+1}. {k} {v:,.0f} ({v/n:.1%})\")\n",
    "    else:\n",
    "        break"
   ]
  },
  {
   "cell_type": "code",
   "execution_count": 27,
   "metadata": {},
   "outputs": [
    {
     "data": {
      "text/html": [
       "<div>\n",
       "<style scoped>\n",
       "    .dataframe tbody tr th:only-of-type {\n",
       "        vertical-align: middle;\n",
       "    }\n",
       "\n",
       "    .dataframe tbody tr th {\n",
       "        vertical-align: top;\n",
       "    }\n",
       "\n",
       "    .dataframe thead th {\n",
       "        text-align: right;\n",
       "    }\n",
       "</style>\n",
       "<table border=\"1\" class=\"dataframe\">\n",
       "  <thead>\n",
       "    <tr style=\"text-align: right;\">\n",
       "      <th></th>\n",
       "      <th>count</th>\n",
       "      <th>pct</th>\n",
       "    </tr>\n",
       "  </thead>\n",
       "  <tbody>\n",
       "    <tr>\n",
       "      <th>(A, K)</th>\n",
       "      <td>362880</td>\n",
       "      <td>0.158198</td>\n",
       "    </tr>\n",
       "    <tr>\n",
       "      <th>(B, L)</th>\n",
       "      <td>362880</td>\n",
       "      <td>0.158198</td>\n",
       "    </tr>\n",
       "    <tr>\n",
       "      <th>(C, M)</th>\n",
       "      <td>362880</td>\n",
       "      <td>0.158198</td>\n",
       "    </tr>\n",
       "    <tr>\n",
       "      <th>(D, N)</th>\n",
       "      <td>362880</td>\n",
       "      <td>0.158198</td>\n",
       "    </tr>\n",
       "    <tr>\n",
       "      <th>(E, O)</th>\n",
       "      <td>362880</td>\n",
       "      <td>0.158198</td>\n",
       "    </tr>\n",
       "  </tbody>\n",
       "</table>\n",
       "</div>"
      ],
      "text/plain": [
       "         count       pct\n",
       "(A, K)  362880  0.158198\n",
       "(B, L)  362880  0.158198\n",
       "(C, M)  362880  0.158198\n",
       "(D, N)  362880  0.158198\n",
       "(E, O)  362880  0.158198"
      ]
     },
     "execution_count": 27,
     "metadata": {},
     "output_type": "execute_result"
    }
   ],
   "source": [
    "remaining1_df = pd.DataFrame.from_dict(d, orient='index', columns=['count'])\n",
    "remaining1_df.index.name = 'couple'\n",
    "remaining1_df['pct'] = remaining1_df['count'] / n\n",
    "remaining1_df.head()"
   ]
  },
  {
   "cell_type": "code",
   "execution_count": 28,
   "metadata": {},
   "outputs": [],
   "source": [
    "m = map(lambda path: remaining1_df.loc[path].sum(), remaining1)\n",
    "remaining1_path_totals = pd.concat(m, axis=0)\n",
    "remaining1_path_totals.head()"
   ]
  },
  {
   "cell_type": "markdown",
   "metadata": {},
   "source": []
  },
  {
   "cell_type": "markdown",
   "metadata": {},
   "source": [
    "## Example: Truth Booth says (A, L) is not a Perfect Match"
   ]
  },
  {
   "cell_type": "code",
   "execution_count": 6,
   "metadata": {},
   "outputs": [
    {
     "name": "stdout",
     "output_type": "stream",
     "text": [
      "Number of paths with A-L: 214,551, leaving 2,079,288 paths\n",
      "check: 2,079,288 paths\n"
     ]
    }
   ],
   "source": [
    "p2d = filter(lambda x: ('A', 'L') in x, remaining1)\n",
    "n_p2d = len(list(p2d))\n",
    "remaining2 = [path for path in remaining1 if ('A', 'L') not in path]\n",
    "print(f\"Number of paths with A-L: {n_p2d:,.0f}, leaving {len(remaining1) - n_p2d:,.0f} paths\")\n",
    "print(f\"check: {len(remaining2):,.0f} paths\")"
   ]
  },
  {
   "cell_type": "code",
   "execution_count": 7,
   "metadata": {},
   "outputs": [
    {
     "data": {
      "text/plain": [
       "Counter({0.0928380291715241: 56,\n",
       "         0.0918189303261501: 16,\n",
       "         0.10318484019529763: 16,\n",
       "         0.15513002527788358: 8,\n",
       "         0.17452127843761903: 2,\n",
       "         0.09092727895318013: 1})"
      ]
     },
     "execution_count": 7,
     "metadata": {},
     "output_type": "execute_result"
    }
   ],
   "source": [
    "n = len(remaining2)\n",
    "c = Counter((match for path in remaining2 for match in path))\n",
    "probs = {k: v / n for k, v in c.items()}\n",
    "freqs = Counter(probs.values())\n",
    "freqs"
   ]
  },
  {
   "cell_type": "code",
   "execution_count": 9,
   "metadata": {},
   "outputs": [
    {
     "data": {
      "text/plain": [
       "0.10101010101010101"
      ]
     },
     "execution_count": 9,
     "metadata": {},
     "output_type": "execute_result"
    }
   ],
   "source": [
    "np.average(list(freqs.keys()), weights=list(freqs.values()))"
   ]
  },
  {
   "cell_type": "markdown",
   "metadata": {},
   "source": [
    "# OLD CODE ..."
   ]
  },
  {
   "cell_type": "code",
   "execution_count": 10,
   "metadata": {},
   "outputs": [
    {
     "data": {
      "text/plain": [
       "{('A', 'F'): 1,\n",
       " ('B', 'G'): 1,\n",
       " ('C', 'H'): 1,\n",
       " ('B', 'H'): 1,\n",
       " ('C', 'G'): 1,\n",
       " ('A', 'G'): 1,\n",
       " ('B', 'F'): 1,\n",
       " ('C', 'F'): 1,\n",
       " ('A', 'H'): 1}"
      ]
     },
     "execution_count": 10,
     "metadata": {},
     "output_type": "execute_result"
    }
   ],
   "source": [
    "N = 3\n",
    "guys = list('ABC')\n",
    "girls = list('FGH')\n",
    "perms = it.permutations(girls, N)\n",
    "\n",
    "matches = {tuple(p): 1\n",
    "           for perm in perms\n",
    "           for p in zip(guys, perm)}\n",
    "matches"
   ]
  },
  {
   "cell_type": "code",
   "execution_count": 11,
   "metadata": {},
   "outputs": [
    {
     "name": "stdout",
     "output_type": "stream",
     "text": [
      "A F 1\n",
      "B G 1\n",
      "C H 1\n",
      "B H 1\n",
      "C G 1\n",
      "A G 1\n",
      "B F 1\n",
      "C F 1\n",
      "A H 1\n"
     ]
    }
   ],
   "source": [
    "for (i, c), v in matches.items():\n",
    "    print(i, c, v)"
   ]
  },
  {
   "cell_type": "code",
   "execution_count": 12,
   "metadata": {},
   "outputs": [
    {
     "name": "stdout",
     "output_type": "stream",
     "text": [
      "3,628,800 paths\n"
     ]
    }
   ],
   "source": [
    "N = 10\n",
    "guys = range(N)\n",
    "girls = range(N)\n",
    "perms = it.permutations(girls, N)\n",
    "    \n",
    "paths = [list(zip(guys, perm)) for perm in perms]\n",
    "n = len(paths)\n",
    "print(f'{n:,.0f} paths')"
   ]
  },
  {
   "cell_type": "code",
   "execution_count": 13,
   "metadata": {},
   "outputs": [],
   "source": [
    "idx = pd.Index(range(10), name='Guys')\n",
    "cols = pd.Index(range(10), name='Girls')"
   ]
  },
  {
   "cell_type": "code",
   "execution_count": 14,
   "metadata": {},
   "outputs": [
    {
     "data": {
      "text/plain": [
       "[(0, 0),\n",
       " (1, 1),\n",
       " (2, 2),\n",
       " (3, 3),\n",
       " (4, 4),\n",
       " (5, 5),\n",
       " (6, 6),\n",
       " (7, 7),\n",
       " (8, 8),\n",
       " (9, 9)]"
      ]
     },
     "execution_count": 14,
     "metadata": {},
     "output_type": "execute_result"
    }
   ],
   "source": [
    "path = paths[0]\n",
    "path"
   ]
  },
  {
   "cell_type": "code",
   "execution_count": 15,
   "metadata": {},
   "outputs": [
    {
     "data": {
      "text/plain": [
       "(36288000, 10)"
      ]
     },
     "execution_count": 15,
     "metadata": {},
     "output_type": "execute_result"
    }
   ],
   "source": [
    "def gen_matrix(males, females):\n",
    "    z = np.zeros((len(males), len(females)),\n",
    "                 dtype='int')\n",
    "    z[males, females] = 1\n",
    "    return z\n",
    "\n",
    "perms = it.permutations(girls, N)\n",
    "mats = np.concatenate([gen_matrix(guys, g) for g in perms])\n",
    "mats.shape"
   ]
  },
  {
   "cell_type": "code",
   "execution_count": 16,
   "metadata": {},
   "outputs": [
    {
     "data": {
      "text/html": [
       "<div>\n",
       "<style scoped>\n",
       "    .dataframe tbody tr th:only-of-type {\n",
       "        vertical-align: middle;\n",
       "    }\n",
       "\n",
       "    .dataframe tbody tr th {\n",
       "        vertical-align: top;\n",
       "    }\n",
       "\n",
       "    .dataframe thead th {\n",
       "        text-align: right;\n",
       "    }\n",
       "</style>\n",
       "<table border=\"1\" class=\"dataframe\">\n",
       "  <thead>\n",
       "    <tr style=\"text-align: right;\">\n",
       "      <th></th>\n",
       "      <th>Girls</th>\n",
       "      <th>0</th>\n",
       "      <th>1</th>\n",
       "      <th>2</th>\n",
       "      <th>3</th>\n",
       "      <th>4</th>\n",
       "      <th>5</th>\n",
       "      <th>6</th>\n",
       "      <th>7</th>\n",
       "      <th>8</th>\n",
       "      <th>9</th>\n",
       "    </tr>\n",
       "    <tr>\n",
       "      <th>Guys</th>\n",
       "      <th>Iteration</th>\n",
       "      <th></th>\n",
       "      <th></th>\n",
       "      <th></th>\n",
       "      <th></th>\n",
       "      <th></th>\n",
       "      <th></th>\n",
       "      <th></th>\n",
       "      <th></th>\n",
       "      <th></th>\n",
       "      <th></th>\n",
       "    </tr>\n",
       "  </thead>\n",
       "  <tbody>\n",
       "    <tr>\n",
       "      <th>0</th>\n",
       "      <th>0</th>\n",
       "      <td>1</td>\n",
       "      <td>0</td>\n",
       "      <td>0</td>\n",
       "      <td>0</td>\n",
       "      <td>0</td>\n",
       "      <td>0</td>\n",
       "      <td>0</td>\n",
       "      <td>0</td>\n",
       "      <td>0</td>\n",
       "      <td>0</td>\n",
       "    </tr>\n",
       "    <tr>\n",
       "      <th>1</th>\n",
       "      <th>0</th>\n",
       "      <td>0</td>\n",
       "      <td>1</td>\n",
       "      <td>0</td>\n",
       "      <td>0</td>\n",
       "      <td>0</td>\n",
       "      <td>0</td>\n",
       "      <td>0</td>\n",
       "      <td>0</td>\n",
       "      <td>0</td>\n",
       "      <td>0</td>\n",
       "    </tr>\n",
       "    <tr>\n",
       "      <th>2</th>\n",
       "      <th>0</th>\n",
       "      <td>0</td>\n",
       "      <td>0</td>\n",
       "      <td>1</td>\n",
       "      <td>0</td>\n",
       "      <td>0</td>\n",
       "      <td>0</td>\n",
       "      <td>0</td>\n",
       "      <td>0</td>\n",
       "      <td>0</td>\n",
       "      <td>0</td>\n",
       "    </tr>\n",
       "    <tr>\n",
       "      <th>3</th>\n",
       "      <th>0</th>\n",
       "      <td>0</td>\n",
       "      <td>0</td>\n",
       "      <td>0</td>\n",
       "      <td>1</td>\n",
       "      <td>0</td>\n",
       "      <td>0</td>\n",
       "      <td>0</td>\n",
       "      <td>0</td>\n",
       "      <td>0</td>\n",
       "      <td>0</td>\n",
       "    </tr>\n",
       "    <tr>\n",
       "      <th>4</th>\n",
       "      <th>0</th>\n",
       "      <td>0</td>\n",
       "      <td>0</td>\n",
       "      <td>0</td>\n",
       "      <td>0</td>\n",
       "      <td>1</td>\n",
       "      <td>0</td>\n",
       "      <td>0</td>\n",
       "      <td>0</td>\n",
       "      <td>0</td>\n",
       "      <td>0</td>\n",
       "    </tr>\n",
       "    <tr>\n",
       "      <th>5</th>\n",
       "      <th>0</th>\n",
       "      <td>0</td>\n",
       "      <td>0</td>\n",
       "      <td>0</td>\n",
       "      <td>0</td>\n",
       "      <td>0</td>\n",
       "      <td>1</td>\n",
       "      <td>0</td>\n",
       "      <td>0</td>\n",
       "      <td>0</td>\n",
       "      <td>0</td>\n",
       "    </tr>\n",
       "    <tr>\n",
       "      <th>6</th>\n",
       "      <th>0</th>\n",
       "      <td>0</td>\n",
       "      <td>0</td>\n",
       "      <td>0</td>\n",
       "      <td>0</td>\n",
       "      <td>0</td>\n",
       "      <td>0</td>\n",
       "      <td>1</td>\n",
       "      <td>0</td>\n",
       "      <td>0</td>\n",
       "      <td>0</td>\n",
       "    </tr>\n",
       "    <tr>\n",
       "      <th>7</th>\n",
       "      <th>0</th>\n",
       "      <td>0</td>\n",
       "      <td>0</td>\n",
       "      <td>0</td>\n",
       "      <td>0</td>\n",
       "      <td>0</td>\n",
       "      <td>0</td>\n",
       "      <td>0</td>\n",
       "      <td>1</td>\n",
       "      <td>0</td>\n",
       "      <td>0</td>\n",
       "    </tr>\n",
       "    <tr>\n",
       "      <th>8</th>\n",
       "      <th>0</th>\n",
       "      <td>0</td>\n",
       "      <td>0</td>\n",
       "      <td>0</td>\n",
       "      <td>0</td>\n",
       "      <td>0</td>\n",
       "      <td>0</td>\n",
       "      <td>0</td>\n",
       "      <td>0</td>\n",
       "      <td>1</td>\n",
       "      <td>0</td>\n",
       "    </tr>\n",
       "    <tr>\n",
       "      <th>9</th>\n",
       "      <th>0</th>\n",
       "      <td>0</td>\n",
       "      <td>0</td>\n",
       "      <td>0</td>\n",
       "      <td>0</td>\n",
       "      <td>0</td>\n",
       "      <td>0</td>\n",
       "      <td>0</td>\n",
       "      <td>0</td>\n",
       "      <td>0</td>\n",
       "      <td>1</td>\n",
       "    </tr>\n",
       "    <tr>\n",
       "      <th>0</th>\n",
       "      <th>1</th>\n",
       "      <td>1</td>\n",
       "      <td>0</td>\n",
       "      <td>0</td>\n",
       "      <td>0</td>\n",
       "      <td>0</td>\n",
       "      <td>0</td>\n",
       "      <td>0</td>\n",
       "      <td>0</td>\n",
       "      <td>0</td>\n",
       "      <td>0</td>\n",
       "    </tr>\n",
       "    <tr>\n",
       "      <th>1</th>\n",
       "      <th>1</th>\n",
       "      <td>0</td>\n",
       "      <td>1</td>\n",
       "      <td>0</td>\n",
       "      <td>0</td>\n",
       "      <td>0</td>\n",
       "      <td>0</td>\n",
       "      <td>0</td>\n",
       "      <td>0</td>\n",
       "      <td>0</td>\n",
       "      <td>0</td>\n",
       "    </tr>\n",
       "    <tr>\n",
       "      <th>2</th>\n",
       "      <th>1</th>\n",
       "      <td>0</td>\n",
       "      <td>0</td>\n",
       "      <td>1</td>\n",
       "      <td>0</td>\n",
       "      <td>0</td>\n",
       "      <td>0</td>\n",
       "      <td>0</td>\n",
       "      <td>0</td>\n",
       "      <td>0</td>\n",
       "      <td>0</td>\n",
       "    </tr>\n",
       "    <tr>\n",
       "      <th>3</th>\n",
       "      <th>1</th>\n",
       "      <td>0</td>\n",
       "      <td>0</td>\n",
       "      <td>0</td>\n",
       "      <td>1</td>\n",
       "      <td>0</td>\n",
       "      <td>0</td>\n",
       "      <td>0</td>\n",
       "      <td>0</td>\n",
       "      <td>0</td>\n",
       "      <td>0</td>\n",
       "    </tr>\n",
       "    <tr>\n",
       "      <th>4</th>\n",
       "      <th>1</th>\n",
       "      <td>0</td>\n",
       "      <td>0</td>\n",
       "      <td>0</td>\n",
       "      <td>0</td>\n",
       "      <td>1</td>\n",
       "      <td>0</td>\n",
       "      <td>0</td>\n",
       "      <td>0</td>\n",
       "      <td>0</td>\n",
       "      <td>0</td>\n",
       "    </tr>\n",
       "  </tbody>\n",
       "</table>\n",
       "</div>"
      ],
      "text/plain": [
       "Girls           0  1  2  3  4  5  6  7  8  9\n",
       "Guys Iteration                              \n",
       "0    0          1  0  0  0  0  0  0  0  0  0\n",
       "1    0          0  1  0  0  0  0  0  0  0  0\n",
       "2    0          0  0  1  0  0  0  0  0  0  0\n",
       "3    0          0  0  0  1  0  0  0  0  0  0\n",
       "4    0          0  0  0  0  1  0  0  0  0  0\n",
       "5    0          0  0  0  0  0  1  0  0  0  0\n",
       "6    0          0  0  0  0  0  0  1  0  0  0\n",
       "7    0          0  0  0  0  0  0  0  1  0  0\n",
       "8    0          0  0  0  0  0  0  0  0  1  0\n",
       "9    0          0  0  0  0  0  0  0  0  0  1\n",
       "0    1          1  0  0  0  0  0  0  0  0  0\n",
       "1    1          0  1  0  0  0  0  0  0  0  0\n",
       "2    1          0  0  1  0  0  0  0  0  0  0\n",
       "3    1          0  0  0  1  0  0  0  0  0  0\n",
       "4    1          0  0  0  0  1  0  0  0  0  0"
      ]
     },
     "execution_count": 16,
     "metadata": {},
     "output_type": "execute_result"
    }
   ],
   "source": [
    "n = mats.shape[0]\n",
    "idx = pd.Index(list(range(N)) * int(n/N), dtype='int', name='Guys')\n",
    "M = pd.DataFrame(mats, index=idx, columns=cols)\n",
    "data = np.array([i for i in range(int(n/N)) for _ in range(N)],\n",
    "                dtype='int')\n",
    "M['Iteration'] = data\n",
    "M = M.set_index('Iteration', append=True)\n",
    "M.head(15)"
   ]
  },
  {
   "cell_type": "markdown",
   "metadata": {},
   "source": [
    "#### Check for dupes"
   ]
  },
  {
   "cell_type": "code",
   "execution_count": 17,
   "metadata": {},
   "outputs": [],
   "source": [
    "M.reset_index().duplicated().sum()"
   ]
  },
  {
   "cell_type": "code",
   "execution_count": 18,
   "metadata": {},
   "outputs": [
    {
     "name": "stdout",
     "output_type": "stream",
     "text": [
      "[(0, 0), (1, 1), (2, 2), (3, 3), (4, 4), (5, 5), (6, 6), (7, 7), (8, 8), (9, 9)]\n",
      "[(0, 0), (1, 1), (2, 2), (3, 3), (4, 4), (5, 5), (6, 6), (7, 7), (8, 9), (9, 8)]\n",
      "[(0, 0), (1, 1), (2, 2), (3, 3), (4, 4), (5, 5), (6, 6), (7, 8), (8, 7), (9, 9)]\n",
      "[(0, 0), (1, 1), (2, 2), (3, 3), (4, 4), (5, 5), (6, 6), (7, 8), (8, 9), (9, 7)]\n",
      "[(0, 0), (1, 1), (2, 2), (3, 3), (4, 4), (5, 5), (6, 6), (7, 9), (8, 7), (9, 8)]\n"
     ]
    }
   ],
   "source": [
    "for path in paths[:5]:\n",
    "    print(path)"
   ]
  },
  {
   "cell_type": "code",
   "execution_count": 19,
   "metadata": {},
   "outputs": [
    {
     "data": {
      "text/html": [
       "<div>\n",
       "<style scoped>\n",
       "    .dataframe tbody tr th:only-of-type {\n",
       "        vertical-align: middle;\n",
       "    }\n",
       "\n",
       "    .dataframe tbody tr th {\n",
       "        vertical-align: top;\n",
       "    }\n",
       "\n",
       "    .dataframe thead th {\n",
       "        text-align: right;\n",
       "    }\n",
       "</style>\n",
       "<table border=\"1\" class=\"dataframe\">\n",
       "  <thead>\n",
       "    <tr style=\"text-align: right;\">\n",
       "      <th>Girls</th>\n",
       "      <th>0</th>\n",
       "      <th>1</th>\n",
       "      <th>2</th>\n",
       "      <th>3</th>\n",
       "      <th>4</th>\n",
       "      <th>5</th>\n",
       "      <th>6</th>\n",
       "      <th>7</th>\n",
       "      <th>8</th>\n",
       "      <th>9</th>\n",
       "    </tr>\n",
       "  </thead>\n",
       "  <tbody>\n",
       "    <tr>\n",
       "      <th>count</th>\n",
       "      <td>3628800.0</td>\n",
       "      <td>3628800.0</td>\n",
       "      <td>3628800.0</td>\n",
       "      <td>3628800.0</td>\n",
       "      <td>3628800.0</td>\n",
       "      <td>3628800.0</td>\n",
       "      <td>3628800.0</td>\n",
       "      <td>3628800.0</td>\n",
       "      <td>3628800.0</td>\n",
       "      <td>3628800.0</td>\n",
       "    </tr>\n",
       "    <tr>\n",
       "      <th>mean</th>\n",
       "      <td>1.0</td>\n",
       "      <td>1.0</td>\n",
       "      <td>1.0</td>\n",
       "      <td>1.0</td>\n",
       "      <td>1.0</td>\n",
       "      <td>1.0</td>\n",
       "      <td>1.0</td>\n",
       "      <td>1.0</td>\n",
       "      <td>1.0</td>\n",
       "      <td>1.0</td>\n",
       "    </tr>\n",
       "    <tr>\n",
       "      <th>std</th>\n",
       "      <td>0.0</td>\n",
       "      <td>0.0</td>\n",
       "      <td>0.0</td>\n",
       "      <td>0.0</td>\n",
       "      <td>0.0</td>\n",
       "      <td>0.0</td>\n",
       "      <td>0.0</td>\n",
       "      <td>0.0</td>\n",
       "      <td>0.0</td>\n",
       "      <td>0.0</td>\n",
       "    </tr>\n",
       "    <tr>\n",
       "      <th>min</th>\n",
       "      <td>1.0</td>\n",
       "      <td>1.0</td>\n",
       "      <td>1.0</td>\n",
       "      <td>1.0</td>\n",
       "      <td>1.0</td>\n",
       "      <td>1.0</td>\n",
       "      <td>1.0</td>\n",
       "      <td>1.0</td>\n",
       "      <td>1.0</td>\n",
       "      <td>1.0</td>\n",
       "    </tr>\n",
       "    <tr>\n",
       "      <th>25%</th>\n",
       "      <td>1.0</td>\n",
       "      <td>1.0</td>\n",
       "      <td>1.0</td>\n",
       "      <td>1.0</td>\n",
       "      <td>1.0</td>\n",
       "      <td>1.0</td>\n",
       "      <td>1.0</td>\n",
       "      <td>1.0</td>\n",
       "      <td>1.0</td>\n",
       "      <td>1.0</td>\n",
       "    </tr>\n",
       "    <tr>\n",
       "      <th>50%</th>\n",
       "      <td>1.0</td>\n",
       "      <td>1.0</td>\n",
       "      <td>1.0</td>\n",
       "      <td>1.0</td>\n",
       "      <td>1.0</td>\n",
       "      <td>1.0</td>\n",
       "      <td>1.0</td>\n",
       "      <td>1.0</td>\n",
       "      <td>1.0</td>\n",
       "      <td>1.0</td>\n",
       "    </tr>\n",
       "    <tr>\n",
       "      <th>75%</th>\n",
       "      <td>1.0</td>\n",
       "      <td>1.0</td>\n",
       "      <td>1.0</td>\n",
       "      <td>1.0</td>\n",
       "      <td>1.0</td>\n",
       "      <td>1.0</td>\n",
       "      <td>1.0</td>\n",
       "      <td>1.0</td>\n",
       "      <td>1.0</td>\n",
       "      <td>1.0</td>\n",
       "    </tr>\n",
       "    <tr>\n",
       "      <th>max</th>\n",
       "      <td>1.0</td>\n",
       "      <td>1.0</td>\n",
       "      <td>1.0</td>\n",
       "      <td>1.0</td>\n",
       "      <td>1.0</td>\n",
       "      <td>1.0</td>\n",
       "      <td>1.0</td>\n",
       "      <td>1.0</td>\n",
       "      <td>1.0</td>\n",
       "      <td>1.0</td>\n",
       "    </tr>\n",
       "  </tbody>\n",
       "</table>\n",
       "</div>"
      ],
      "text/plain": [
       "Girls          0          1          2          3          4          5  \\\n",
       "count  3628800.0  3628800.0  3628800.0  3628800.0  3628800.0  3628800.0   \n",
       "mean         1.0        1.0        1.0        1.0        1.0        1.0   \n",
       "std          0.0        0.0        0.0        0.0        0.0        0.0   \n",
       "min          1.0        1.0        1.0        1.0        1.0        1.0   \n",
       "25%          1.0        1.0        1.0        1.0        1.0        1.0   \n",
       "50%          1.0        1.0        1.0        1.0        1.0        1.0   \n",
       "75%          1.0        1.0        1.0        1.0        1.0        1.0   \n",
       "max          1.0        1.0        1.0        1.0        1.0        1.0   \n",
       "\n",
       "Girls          6          7          8          9  \n",
       "count  3628800.0  3628800.0  3628800.0  3628800.0  \n",
       "mean         1.0        1.0        1.0        1.0  \n",
       "std          0.0        0.0        0.0        0.0  \n",
       "min          1.0        1.0        1.0        1.0  \n",
       "25%          1.0        1.0        1.0        1.0  \n",
       "50%          1.0        1.0        1.0        1.0  \n",
       "75%          1.0        1.0        1.0        1.0  \n",
       "max          1.0        1.0        1.0        1.0  "
      ]
     },
     "execution_count": 19,
     "metadata": {},
     "output_type": "execute_result"
    }
   ],
   "source": [
    "tots = M.groupby(level='Iteration').sum()\n",
    "tots.describe()"
   ]
  },
  {
   "cell_type": "code",
   "execution_count": 20,
   "metadata": {},
   "outputs": [
    {
     "data": {
      "text/plain": [
       "10    3628800\n",
       "dtype: int64"
      ]
     },
     "execution_count": 20,
     "metadata": {},
     "output_type": "execute_result"
    }
   ],
   "source": [
    "tots.sum(1).value_counts()"
   ]
  },
  {
   "cell_type": "code",
   "execution_count": 21,
   "metadata": {},
   "outputs": [
    {
     "data": {
      "text/plain": [
       "Guys  Iteration\n",
       "3     0            0\n",
       "      1            0\n",
       "      2            0\n",
       "      3            0\n",
       "      4            0\n",
       "                  ..\n",
       "      3628795      0\n",
       "      3628796      0\n",
       "      3628797      0\n",
       "      3628798      0\n",
       "      3628799      0\n",
       "Name: 4, Length: 3628800, dtype: int64"
      ]
     },
     "execution_count": 21,
     "metadata": {},
     "output_type": "execute_result"
    }
   ],
   "source": [
    "all = slice(None)\n",
    "M.loc[(3, all), 4]"
   ]
  },
  {
   "cell_type": "markdown",
   "metadata": {},
   "source": [
    "### Now that we have all possible matches, what is the best structure for working with them?\n",
    "* A single matrix of all scenarios?\n",
    "* A series of matrices?\n",
    "\n",
    "### Need to be able to drop paths with invalid matches\n",
    "* Could use brute force method and just search all paths for specific matches.  Is there a better way?\n",
    "\n",
    "### How will you account for overall results?\n",
    "* On the first round, all paths have equal probability and hence are equally weighted.\n",
    "* On subsequent rounds, you will update the weights based on the results for that round."
   ]
  },
  {
   "cell_type": "code",
   "execution_count": 22,
   "metadata": {},
   "outputs": [],
   "source": [
    "import are_you_the_one as ayto"
   ]
  },
  {
   "cell_type": "code",
   "execution_count": 23,
   "metadata": {},
   "outputs": [],
   "source": [
    "guys = [ayto.Guy(letter) for letter in list('ABCDE')]\n",
    "girls = [ayto.Girl(letter) for letter in list('FGHIJ')]\n",
    "tournament = ayto.Tournament(guys, girls)"
   ]
  },
  {
   "cell_type": "code",
   "execution_count": 24,
   "metadata": {},
   "outputs": [
    {
     "data": {
      "text/html": [
       "<div>\n",
       "<style scoped>\n",
       "    .dataframe tbody tr th:only-of-type {\n",
       "        vertical-align: middle;\n",
       "    }\n",
       "\n",
       "    .dataframe tbody tr th {\n",
       "        vertical-align: top;\n",
       "    }\n",
       "\n",
       "    .dataframe thead th {\n",
       "        text-align: right;\n",
       "    }\n",
       "</style>\n",
       "<table border=\"1\" class=\"dataframe\">\n",
       "  <thead>\n",
       "    <tr style=\"text-align: right;\">\n",
       "      <th></th>\n",
       "      <th>F</th>\n",
       "      <th>G</th>\n",
       "      <th>H</th>\n",
       "      <th>I</th>\n",
       "      <th>J</th>\n",
       "    </tr>\n",
       "  </thead>\n",
       "  <tbody>\n",
       "    <tr>\n",
       "      <th>A</th>\n",
       "      <td>0</td>\n",
       "      <td>0</td>\n",
       "      <td>0</td>\n",
       "      <td>0</td>\n",
       "      <td>0</td>\n",
       "    </tr>\n",
       "    <tr>\n",
       "      <th>B</th>\n",
       "      <td>0</td>\n",
       "      <td>0</td>\n",
       "      <td>0</td>\n",
       "      <td>0</td>\n",
       "      <td>0</td>\n",
       "    </tr>\n",
       "    <tr>\n",
       "      <th>C</th>\n",
       "      <td>0</td>\n",
       "      <td>0</td>\n",
       "      <td>0</td>\n",
       "      <td>0</td>\n",
       "      <td>0</td>\n",
       "    </tr>\n",
       "    <tr>\n",
       "      <th>D</th>\n",
       "      <td>0</td>\n",
       "      <td>0</td>\n",
       "      <td>0</td>\n",
       "      <td>0</td>\n",
       "      <td>0</td>\n",
       "    </tr>\n",
       "    <tr>\n",
       "      <th>E</th>\n",
       "      <td>0</td>\n",
       "      <td>0</td>\n",
       "      <td>0</td>\n",
       "      <td>0</td>\n",
       "      <td>0</td>\n",
       "    </tr>\n",
       "  </tbody>\n",
       "</table>\n",
       "</div>"
      ],
      "text/plain": [
       "   F  G  H  I  J\n",
       "A  0  0  0  0  0\n",
       "B  0  0  0  0  0\n",
       "C  0  0  0  0  0\n",
       "D  0  0  0  0  0\n",
       "E  0  0  0  0  0"
      ]
     },
     "execution_count": 24,
     "metadata": {},
     "output_type": "execute_result"
    }
   ],
   "source": [
    "tournament.grid.X"
   ]
  },
  {
   "cell_type": "code",
   "execution_count": null,
   "metadata": {},
   "outputs": [],
   "source": []
  }
 ],
 "metadata": {
  "kernelspec": {
   "display_name": "Python 3",
   "language": "python",
   "name": "python3"
  },
  "language_info": {
   "codemirror_mode": {
    "name": "ipython",
    "version": 3
   },
   "file_extension": ".py",
   "mimetype": "text/x-python",
   "name": "python",
   "nbconvert_exporter": "python",
   "pygments_lexer": "ipython3",
   "version": "3.11.5"
  }
 },
 "nbformat": 4,
 "nbformat_minor": 4
}
